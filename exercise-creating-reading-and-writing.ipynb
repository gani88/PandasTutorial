{
 "cells": [
  {
   "cell_type": "markdown",
   "id": "03fb7ab0",
   "metadata": {
    "papermill": {
     "duration": 0.004129,
     "end_time": "2023-01-31T22:41:28.259837",
     "exception": false,
     "start_time": "2023-01-31T22:41:28.255708",
     "status": "completed"
    },
    "tags": []
   },
   "source": [
    "**This notebook is an exercise in the [Pandas](https://www.kaggle.com/learn/pandas) course.  You can reference the tutorial at [this link](https://www.kaggle.com/residentmario/creating-reading-and-writing).**\n",
    "\n",
    "---\n"
   ]
  },
  {
   "cell_type": "markdown",
   "id": "92bdae23",
   "metadata": {
    "papermill": {
     "duration": 0.003898,
     "end_time": "2023-01-31T22:41:28.267557",
     "exception": false,
     "start_time": "2023-01-31T22:41:28.263659",
     "status": "completed"
    },
    "tags": []
   },
   "source": [
    "# Introduction\n",
    "\n",
    "The first step in most data analytics projects is reading the data file. In this exercise, you'll create Series and DataFrame objects, both by hand and by reading data files.\n",
    "\n",
    "Run the code cell below to load libraries you will need (including code to check your answers)."
   ]
  },
  {
   "cell_type": "code",
   "execution_count": 1,
   "id": "997fbb8b",
   "metadata": {
    "execution": {
     "iopub.execute_input": "2023-01-31T22:41:28.277082Z",
     "iopub.status.busy": "2023-01-31T22:41:28.276403Z",
     "iopub.status.idle": "2023-01-31T22:41:29.679621Z",
     "shell.execute_reply": "2023-01-31T22:41:29.678362Z"
    },
    "papermill": {
     "duration": 1.411074,
     "end_time": "2023-01-31T22:41:29.682290",
     "exception": false,
     "start_time": "2023-01-31T22:41:28.271216",
     "status": "completed"
    },
    "tags": []
   },
   "outputs": [
    {
     "name": "stdout",
     "output_type": "stream",
     "text": [
      "Setup complete.\n"
     ]
    }
   ],
   "source": [
    "import pandas as pd\n",
    "pd.set_option('max_rows', 5)\n",
    "from learntools.core import binder; binder.bind(globals())\n",
    "from learntools.pandas.creating_reading_and_writing import *\n",
    "print(\"Setup complete.\")"
   ]
  },
  {
   "cell_type": "markdown",
   "id": "85b84bc7",
   "metadata": {
    "papermill": {
     "duration": 0.00363,
     "end_time": "2023-01-31T22:41:29.689953",
     "exception": false,
     "start_time": "2023-01-31T22:41:29.686323",
     "status": "completed"
    },
    "tags": []
   },
   "source": [
    "# Exercises"
   ]
  },
  {
   "cell_type": "markdown",
   "id": "afa5a7b5",
   "metadata": {
    "papermill": {
     "duration": 0.003474,
     "end_time": "2023-01-31T22:41:29.697167",
     "exception": false,
     "start_time": "2023-01-31T22:41:29.693693",
     "status": "completed"
    },
    "tags": []
   },
   "source": [
    "## 1.\n",
    "\n",
    "In the cell below, create a DataFrame `fruits` that looks like this:\n",
    "\n",
    "![](https://i.imgur.com/Ax3pp2A.png)"
   ]
  },
  {
   "cell_type": "code",
   "execution_count": 2,
   "id": "80aa03e6",
   "metadata": {
    "execution": {
     "iopub.execute_input": "2023-01-31T22:41:29.706155Z",
     "iopub.status.busy": "2023-01-31T22:41:29.705774Z",
     "iopub.status.idle": "2023-01-31T22:41:29.717783Z",
     "shell.execute_reply": "2023-01-31T22:41:29.716754Z"
    },
    "papermill": {
     "duration": 0.019191,
     "end_time": "2023-01-31T22:41:29.720011",
     "exception": false,
     "start_time": "2023-01-31T22:41:29.700820",
     "status": "completed"
    },
    "tags": []
   },
   "outputs": [
    {
     "data": {
      "application/javascript": [
       "parent.postMessage({\"jupyterEvent\": \"custom.exercise_interaction\", \"data\": {\"outcomeType\": 4, \"interactionType\": 1, \"questionType\": 1, \"questionId\": \"1_FruitDfCreation\", \"learnToolsVersion\": \"0.3.4\", \"valueTowardsCompletion\": 0.0, \"failureMessage\": \"\", \"exceptionClass\": \"\", \"trace\": \"\"}}, \"*\")"
      ],
      "text/plain": [
       "<IPython.core.display.Javascript object>"
      ]
     },
     "metadata": {},
     "output_type": "display_data"
    },
    {
     "data": {
      "text/markdown": [
       "<span style=\"color:#ccaa33\">Check:</span> When you've updated the starter code, `check()` will tell you whether your code is correct. You need to update the code that creates variable `fruits`"
      ],
      "text/plain": [
       "Check: When you've updated the starter code, `check()` will tell you whether your code is correct. You need to update the code that creates variable `fruits`"
      ]
     },
     "metadata": {},
     "output_type": "display_data"
    },
    {
     "data": {
      "text/markdown": [],
      "text/plain": [
       "<learntools.core.constants.PlaceholderValue at 0x7f3bd1077390>"
      ]
     },
     "execution_count": 2,
     "metadata": {},
     "output_type": "execute_result"
    }
   ],
   "source": [
    "# Your code goes here. Create a dataframe matching the above diagram and assign it to the variable fruits.\n",
    "fruits = ____\n",
    "\n",
    "# Check your answer\n",
    "q1.check()\n",
    "fruits"
   ]
  },
  {
   "cell_type": "code",
   "execution_count": 3,
   "id": "030a8d75",
   "metadata": {
    "execution": {
     "iopub.execute_input": "2023-01-31T22:41:29.730013Z",
     "iopub.status.busy": "2023-01-31T22:41:29.729660Z",
     "iopub.status.idle": "2023-01-31T22:41:29.733699Z",
     "shell.execute_reply": "2023-01-31T22:41:29.732872Z"
    },
    "papermill": {
     "duration": 0.011095,
     "end_time": "2023-01-31T22:41:29.735487",
     "exception": false,
     "start_time": "2023-01-31T22:41:29.724392",
     "status": "completed"
    },
    "tags": []
   },
   "outputs": [],
   "source": [
    "#q1.hint()\n",
    "#q1.solution()"
   ]
  },
  {
   "cell_type": "markdown",
   "id": "1d08679e",
   "metadata": {
    "papermill": {
     "duration": 0.004043,
     "end_time": "2023-01-31T22:41:29.743971",
     "exception": false,
     "start_time": "2023-01-31T22:41:29.739928",
     "status": "completed"
    },
    "tags": []
   },
   "source": [
    "## 2.\n",
    "\n",
    "Create a dataframe `fruit_sales` that matches the diagram below:\n",
    "\n",
    "![](https://i.imgur.com/CHPn7ZF.png)"
   ]
  },
  {
   "cell_type": "code",
   "execution_count": 4,
   "id": "766ccb7d",
   "metadata": {
    "execution": {
     "iopub.execute_input": "2023-01-31T22:41:29.754002Z",
     "iopub.status.busy": "2023-01-31T22:41:29.753683Z",
     "iopub.status.idle": "2023-01-31T22:41:29.762811Z",
     "shell.execute_reply": "2023-01-31T22:41:29.761836Z"
    },
    "papermill": {
     "duration": 0.016927,
     "end_time": "2023-01-31T22:41:29.765140",
     "exception": false,
     "start_time": "2023-01-31T22:41:29.748213",
     "status": "completed"
    },
    "tags": []
   },
   "outputs": [
    {
     "data": {
      "application/javascript": [
       "parent.postMessage({\"jupyterEvent\": \"custom.exercise_interaction\", \"data\": {\"outcomeType\": 4, \"interactionType\": 1, \"questionType\": 1, \"questionId\": \"2_FruitSalesDfCreation\", \"learnToolsVersion\": \"0.3.4\", \"valueTowardsCompletion\": 0.0, \"failureMessage\": \"\", \"exceptionClass\": \"\", \"trace\": \"\"}}, \"*\")"
      ],
      "text/plain": [
       "<IPython.core.display.Javascript object>"
      ]
     },
     "metadata": {},
     "output_type": "display_data"
    },
    {
     "data": {
      "text/markdown": [
       "<span style=\"color:#ccaa33\">Check:</span> When you've updated the starter code, `check()` will tell you whether your code is correct. You need to update the code that creates variable `fruit_sales`"
      ],
      "text/plain": [
       "Check: When you've updated the starter code, `check()` will tell you whether your code is correct. You need to update the code that creates variable `fruit_sales`"
      ]
     },
     "metadata": {},
     "output_type": "display_data"
    },
    {
     "data": {
      "text/markdown": [],
      "text/plain": [
       "<learntools.core.constants.PlaceholderValue at 0x7f3bd1077390>"
      ]
     },
     "execution_count": 4,
     "metadata": {},
     "output_type": "execute_result"
    }
   ],
   "source": [
    "# Your code goes here. Create a dataframe matching the above diagram and assign it to the variable fruit_sales.\n",
    "fruit_sales = ____\n",
    "\n",
    "# Check your answer\n",
    "q2.check()\n",
    "fruit_sales"
   ]
  },
  {
   "cell_type": "code",
   "execution_count": 5,
   "id": "89b87ea5",
   "metadata": {
    "execution": {
     "iopub.execute_input": "2023-01-31T22:41:29.777191Z",
     "iopub.status.busy": "2023-01-31T22:41:29.776902Z",
     "iopub.status.idle": "2023-01-31T22:41:29.781330Z",
     "shell.execute_reply": "2023-01-31T22:41:29.780020Z"
    },
    "papermill": {
     "duration": 0.012774,
     "end_time": "2023-01-31T22:41:29.783444",
     "exception": false,
     "start_time": "2023-01-31T22:41:29.770670",
     "status": "completed"
    },
    "tags": []
   },
   "outputs": [],
   "source": [
    "#q2.hint()\n",
    "#q2.solution()"
   ]
  },
  {
   "cell_type": "markdown",
   "id": "534a2fae",
   "metadata": {
    "papermill": {
     "duration": 0.0041,
     "end_time": "2023-01-31T22:41:29.792359",
     "exception": false,
     "start_time": "2023-01-31T22:41:29.788259",
     "status": "completed"
    },
    "tags": []
   },
   "source": [
    "## 3.\n",
    "\n",
    "Create a variable `ingredients` with a Series that looks like:\n",
    "\n",
    "```\n",
    "Flour     4 cups\n",
    "Milk       1 cup\n",
    "Eggs     2 large\n",
    "Spam       1 can\n",
    "Name: Dinner, dtype: object\n",
    "```"
   ]
  },
  {
   "cell_type": "code",
   "execution_count": 6,
   "id": "b14211b4",
   "metadata": {
    "execution": {
     "iopub.execute_input": "2023-01-31T22:41:29.803757Z",
     "iopub.status.busy": "2023-01-31T22:41:29.802475Z",
     "iopub.status.idle": "2023-01-31T22:41:29.812929Z",
     "shell.execute_reply": "2023-01-31T22:41:29.811734Z"
    },
    "papermill": {
     "duration": 0.018473,
     "end_time": "2023-01-31T22:41:29.815208",
     "exception": false,
     "start_time": "2023-01-31T22:41:29.796735",
     "status": "completed"
    },
    "tags": []
   },
   "outputs": [
    {
     "data": {
      "application/javascript": [
       "parent.postMessage({\"jupyterEvent\": \"custom.exercise_interaction\", \"data\": {\"outcomeType\": 4, \"interactionType\": 1, \"questionType\": 2, \"questionId\": \"3_RecipeSeriesCreation\", \"learnToolsVersion\": \"0.3.4\", \"valueTowardsCompletion\": 0.0, \"failureMessage\": \"\", \"exceptionClass\": \"\", \"trace\": \"\"}}, \"*\")"
      ],
      "text/plain": [
       "<IPython.core.display.Javascript object>"
      ]
     },
     "metadata": {},
     "output_type": "display_data"
    },
    {
     "data": {
      "text/markdown": [
       "<span style=\"color:#ccaa33\">Check:</span> When you've updated the starter code, `check()` will tell you whether your code is correct. You need to update the code that creates variable `ingredients`"
      ],
      "text/plain": [
       "Check: When you've updated the starter code, `check()` will tell you whether your code is correct. You need to update the code that creates variable `ingredients`"
      ]
     },
     "metadata": {},
     "output_type": "display_data"
    },
    {
     "data": {
      "text/markdown": [],
      "text/plain": [
       "<learntools.core.constants.PlaceholderValue at 0x7f3bd1077390>"
      ]
     },
     "execution_count": 6,
     "metadata": {},
     "output_type": "execute_result"
    }
   ],
   "source": [
    "ingredients = ____\n",
    "\n",
    "# Check your answer\n",
    "q3.check()\n",
    "ingredients"
   ]
  },
  {
   "cell_type": "code",
   "execution_count": 7,
   "id": "88275343",
   "metadata": {
    "execution": {
     "iopub.execute_input": "2023-01-31T22:41:29.826162Z",
     "iopub.status.busy": "2023-01-31T22:41:29.825828Z",
     "iopub.status.idle": "2023-01-31T22:41:29.829892Z",
     "shell.execute_reply": "2023-01-31T22:41:29.828625Z"
    },
    "papermill": {
     "duration": 0.011543,
     "end_time": "2023-01-31T22:41:29.831510",
     "exception": false,
     "start_time": "2023-01-31T22:41:29.819967",
     "status": "completed"
    },
    "tags": []
   },
   "outputs": [],
   "source": [
    "#q3.hint()\n",
    "#q3.solution()"
   ]
  },
  {
   "cell_type": "markdown",
   "id": "5e5b6449",
   "metadata": {
    "papermill": {
     "duration": 0.004618,
     "end_time": "2023-01-31T22:41:29.841000",
     "exception": false,
     "start_time": "2023-01-31T22:41:29.836382",
     "status": "completed"
    },
    "tags": []
   },
   "source": [
    "## 4.\n",
    "\n",
    "Read the following csv dataset of wine reviews into a DataFrame called `reviews`:\n",
    "\n",
    "![](https://i.imgur.com/74RCZtU.png)\n",
    "\n",
    "The filepath to the csv file is `../input/wine-reviews/winemag-data_first150k.csv`. The first few lines look like:\n",
    "\n",
    "```\n",
    ",country,description,designation,points,price,province,region_1,region_2,variety,winery\n",
    "0,US,\"This tremendous 100% varietal wine[...]\",Martha's Vineyard,96,235.0,California,Napa Valley,Napa,Cabernet Sauvignon,Heitz\n",
    "1,Spain,\"Ripe aromas of fig, blackberry and[...]\",Carodorum Selección Especial Reserva,96,110.0,Northern Spain,Toro,,Tinta de Toro,Bodega Carmen Rodríguez\n",
    "```"
   ]
  },
  {
   "cell_type": "code",
   "execution_count": 8,
   "id": "51d620fb",
   "metadata": {
    "execution": {
     "iopub.execute_input": "2023-01-31T22:41:29.852648Z",
     "iopub.status.busy": "2023-01-31T22:41:29.852141Z",
     "iopub.status.idle": "2023-01-31T22:41:29.860865Z",
     "shell.execute_reply": "2023-01-31T22:41:29.860003Z"
    },
    "papermill": {
     "duration": 0.016459,
     "end_time": "2023-01-31T22:41:29.862716",
     "exception": false,
     "start_time": "2023-01-31T22:41:29.846257",
     "status": "completed"
    },
    "tags": []
   },
   "outputs": [
    {
     "data": {
      "application/javascript": [
       "parent.postMessage({\"jupyterEvent\": \"custom.exercise_interaction\", \"data\": {\"outcomeType\": 4, \"interactionType\": 1, \"questionType\": 1, \"questionId\": \"4_ReadWineCsv\", \"learnToolsVersion\": \"0.3.4\", \"valueTowardsCompletion\": 0.0, \"failureMessage\": \"\", \"exceptionClass\": \"\", \"trace\": \"\"}}, \"*\")"
      ],
      "text/plain": [
       "<IPython.core.display.Javascript object>"
      ]
     },
     "metadata": {},
     "output_type": "display_data"
    },
    {
     "data": {
      "text/markdown": [
       "<span style=\"color:#ccaa33\">Check:</span> When you've updated the starter code, `check()` will tell you whether your code is correct. You need to update the code that creates variable `reviews`"
      ],
      "text/plain": [
       "Check: When you've updated the starter code, `check()` will tell you whether your code is correct. You need to update the code that creates variable `reviews`"
      ]
     },
     "metadata": {},
     "output_type": "display_data"
    },
    {
     "data": {
      "text/markdown": [],
      "text/plain": [
       "<learntools.core.constants.PlaceholderValue at 0x7f3bd1077390>"
      ]
     },
     "execution_count": 8,
     "metadata": {},
     "output_type": "execute_result"
    }
   ],
   "source": [
    "reviews = ____\n",
    "\n",
    "# Check your answer\n",
    "q4.check()\n",
    "reviews"
   ]
  },
  {
   "cell_type": "code",
   "execution_count": 9,
   "id": "8d208d47",
   "metadata": {
    "execution": {
     "iopub.execute_input": "2023-01-31T22:41:29.874236Z",
     "iopub.status.busy": "2023-01-31T22:41:29.873882Z",
     "iopub.status.idle": "2023-01-31T22:41:29.878468Z",
     "shell.execute_reply": "2023-01-31T22:41:29.877508Z"
    },
    "papermill": {
     "duration": 0.012169,
     "end_time": "2023-01-31T22:41:29.880051",
     "exception": false,
     "start_time": "2023-01-31T22:41:29.867882",
     "status": "completed"
    },
    "tags": []
   },
   "outputs": [],
   "source": [
    "#q4.hint()\n",
    "#q4.solution()"
   ]
  },
  {
   "cell_type": "markdown",
   "id": "78cfa89b",
   "metadata": {
    "papermill": {
     "duration": 0.004951,
     "end_time": "2023-01-31T22:41:29.890203",
     "exception": false,
     "start_time": "2023-01-31T22:41:29.885252",
     "status": "completed"
    },
    "tags": []
   },
   "source": [
    "## 5.\n",
    "\n",
    "Run the cell below to create and display a DataFrame called `animals`:"
   ]
  },
  {
   "cell_type": "code",
   "execution_count": 10,
   "id": "7c81ad81",
   "metadata": {
    "execution": {
     "iopub.execute_input": "2023-01-31T22:41:29.901386Z",
     "iopub.status.busy": "2023-01-31T22:41:29.901097Z",
     "iopub.status.idle": "2023-01-31T22:41:29.913737Z",
     "shell.execute_reply": "2023-01-31T22:41:29.912453Z"
    },
    "papermill": {
     "duration": 0.021023,
     "end_time": "2023-01-31T22:41:29.916255",
     "exception": false,
     "start_time": "2023-01-31T22:41:29.895232",
     "status": "completed"
    },
    "tags": []
   },
   "outputs": [
    {
     "data": {
      "text/html": [
       "<div>\n",
       "<style scoped>\n",
       "    .dataframe tbody tr th:only-of-type {\n",
       "        vertical-align: middle;\n",
       "    }\n",
       "\n",
       "    .dataframe tbody tr th {\n",
       "        vertical-align: top;\n",
       "    }\n",
       "\n",
       "    .dataframe thead th {\n",
       "        text-align: right;\n",
       "    }\n",
       "</style>\n",
       "<table border=\"1\" class=\"dataframe\">\n",
       "  <thead>\n",
       "    <tr style=\"text-align: right;\">\n",
       "      <th></th>\n",
       "      <th>Cows</th>\n",
       "      <th>Goats</th>\n",
       "    </tr>\n",
       "  </thead>\n",
       "  <tbody>\n",
       "    <tr>\n",
       "      <th>Year 1</th>\n",
       "      <td>12</td>\n",
       "      <td>22</td>\n",
       "    </tr>\n",
       "    <tr>\n",
       "      <th>Year 2</th>\n",
       "      <td>20</td>\n",
       "      <td>19</td>\n",
       "    </tr>\n",
       "  </tbody>\n",
       "</table>\n",
       "</div>"
      ],
      "text/plain": [
       "        Cows  Goats\n",
       "Year 1    12     22\n",
       "Year 2    20     19"
      ]
     },
     "execution_count": 10,
     "metadata": {},
     "output_type": "execute_result"
    }
   ],
   "source": [
    "animals = pd.DataFrame({'Cows': [12, 20], 'Goats': [22, 19]}, index=['Year 1', 'Year 2'])\n",
    "animals"
   ]
  },
  {
   "cell_type": "markdown",
   "id": "25f78260",
   "metadata": {
    "papermill": {
     "duration": 0.005982,
     "end_time": "2023-01-31T22:41:29.928068",
     "exception": false,
     "start_time": "2023-01-31T22:41:29.922086",
     "status": "completed"
    },
    "tags": []
   },
   "source": [
    "In the cell below, write code to save this DataFrame to disk as a csv file with the name `cows_and_goats.csv`."
   ]
  },
  {
   "cell_type": "code",
   "execution_count": 11,
   "id": "605232d7",
   "metadata": {
    "execution": {
     "iopub.execute_input": "2023-01-31T22:41:29.941475Z",
     "iopub.status.busy": "2023-01-31T22:41:29.940538Z",
     "iopub.status.idle": "2023-01-31T22:41:29.947217Z",
     "shell.execute_reply": "2023-01-31T22:41:29.946311Z"
    },
    "papermill": {
     "duration": 0.015052,
     "end_time": "2023-01-31T22:41:29.948932",
     "exception": false,
     "start_time": "2023-01-31T22:41:29.933880",
     "status": "completed"
    },
    "tags": []
   },
   "outputs": [
    {
     "data": {
      "application/javascript": [
       "parent.postMessage({\"jupyterEvent\": \"custom.exercise_interaction\", \"data\": {\"outcomeType\": 2, \"failureMessage\": \"Expected file to exist with name `cows_and_goats.csv`\", \"interactionType\": 1, \"questionType\": 2, \"questionId\": \"5_SaveAnimalsCsv\", \"learnToolsVersion\": \"0.3.4\", \"valueTowardsCompletion\": 0.0, \"exceptionClass\": \"\", \"trace\": \"\"}}, \"*\")"
      ],
      "text/plain": [
       "<IPython.core.display.Javascript object>"
      ]
     },
     "metadata": {},
     "output_type": "display_data"
    },
    {
     "data": {
      "text/markdown": [
       "<span style=\"color:#cc3333\">Incorrect:</span> Expected file to exist with name `cows_and_goats.csv`"
      ],
      "text/plain": [
       "Incorrect: Expected file to exist with name `cows_and_goats.csv`"
      ]
     },
     "metadata": {},
     "output_type": "display_data"
    }
   ],
   "source": [
    "# Your code goes here\n",
    "\n",
    "# Check your answer\n",
    "q5.check()"
   ]
  },
  {
   "cell_type": "code",
   "execution_count": 12,
   "id": "bda37cf3",
   "metadata": {
    "execution": {
     "iopub.execute_input": "2023-01-31T22:41:29.962424Z",
     "iopub.status.busy": "2023-01-31T22:41:29.961993Z",
     "iopub.status.idle": "2023-01-31T22:41:29.966434Z",
     "shell.execute_reply": "2023-01-31T22:41:29.964995Z"
    },
    "papermill": {
     "duration": 0.013875,
     "end_time": "2023-01-31T22:41:29.968777",
     "exception": false,
     "start_time": "2023-01-31T22:41:29.954902",
     "status": "completed"
    },
    "tags": []
   },
   "outputs": [],
   "source": [
    "#q5.hint()\n",
    "#q5.solution()"
   ]
  },
  {
   "cell_type": "markdown",
   "id": "9bc5bcc0",
   "metadata": {
    "papermill": {
     "duration": 0.005699,
     "end_time": "2023-01-31T22:41:29.980526",
     "exception": false,
     "start_time": "2023-01-31T22:41:29.974827",
     "status": "completed"
    },
    "tags": []
   },
   "source": [
    "# Keep going\n",
    "\n",
    "Move on to learn about **[indexing, selecting and assigning](https://www.kaggle.com/residentmario/indexing-selecting-assigning)**."
   ]
  },
  {
   "cell_type": "markdown",
   "id": "cafe2087",
   "metadata": {
    "papermill": {
     "duration": 0.005508,
     "end_time": "2023-01-31T22:41:29.991790",
     "exception": false,
     "start_time": "2023-01-31T22:41:29.986282",
     "status": "completed"
    },
    "tags": []
   },
   "source": [
    "---\n",
    "\n",
    "\n",
    "\n",
    "\n",
    "*Have questions or comments? Visit the [course discussion forum](https://www.kaggle.com/learn/pandas/discussion) to chat with other learners.*"
   ]
  }
 ],
 "metadata": {
  "kernelspec": {
   "display_name": "Python 3",
   "language": "python",
   "name": "python3"
  },
  "language_info": {
   "codemirror_mode": {
    "name": "ipython",
    "version": 3
   },
   "file_extension": ".py",
   "mimetype": "text/x-python",
   "name": "python",
   "nbconvert_exporter": "python",
   "pygments_lexer": "ipython3",
   "version": "3.7.12"
  },
  "papermill": {
   "default_parameters": {},
   "duration": 9.00881,
   "end_time": "2023-01-31T22:41:30.516337",
   "environment_variables": {},
   "exception": null,
   "input_path": "__notebook__.ipynb",
   "output_path": "__notebook__.ipynb",
   "parameters": {},
   "start_time": "2023-01-31T22:41:21.507527",
   "version": "2.3.4"
  }
 },
 "nbformat": 4,
 "nbformat_minor": 5
}
