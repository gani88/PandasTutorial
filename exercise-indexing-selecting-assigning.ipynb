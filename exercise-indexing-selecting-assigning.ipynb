{
 "cells": [
  {
   "cell_type": "markdown",
   "id": "3ada6be6",
   "metadata": {
    "papermill": {
     "duration": 0.011516,
     "end_time": "2023-02-01T23:53:25.533378",
     "exception": false,
     "start_time": "2023-02-01T23:53:25.521862",
     "status": "completed"
    },
    "tags": []
   },
   "source": [
    "**This notebook is an exercise in the [Pandas](https://www.kaggle.com/learn/pandas) course.  You can reference the tutorial at [this link](https://www.kaggle.com/residentmario/indexing-selecting-assigning).**\n",
    "\n",
    "---\n"
   ]
  },
  {
   "cell_type": "markdown",
   "id": "aa906f17",
   "metadata": {
    "papermill": {
     "duration": 0.007074,
     "end_time": "2023-02-01T23:53:25.548459",
     "exception": false,
     "start_time": "2023-02-01T23:53:25.541385",
     "status": "completed"
    },
    "tags": []
   },
   "source": [
    "# Introduction\n",
    "\n",
    "In this set of exercises we will work with the [Wine Reviews dataset](https://www.kaggle.com/zynicide/wine-reviews). "
   ]
  },
  {
   "cell_type": "markdown",
   "id": "bf02397c",
   "metadata": {
    "papermill": {
     "duration": 0.006575,
     "end_time": "2023-02-01T23:53:25.561978",
     "exception": false,
     "start_time": "2023-02-01T23:53:25.555403",
     "status": "completed"
    },
    "tags": []
   },
   "source": [
    "Run the following cell to load your data and some utility functions (including code to check your answers)."
   ]
  },
  {
   "cell_type": "code",
   "execution_count": 1,
   "id": "cddc62fe",
   "metadata": {
    "execution": {
     "iopub.execute_input": "2023-02-01T23:53:25.579043Z",
     "iopub.status.busy": "2023-02-01T23:53:25.577970Z",
     "iopub.status.idle": "2023-02-01T23:53:28.760463Z",
     "shell.execute_reply": "2023-02-01T23:53:28.759329Z"
    },
    "papermill": {
     "duration": 3.195038,
     "end_time": "2023-02-01T23:53:28.763927",
     "exception": false,
     "start_time": "2023-02-01T23:53:25.568889",
     "status": "completed"
    },
    "tags": []
   },
   "outputs": [
    {
     "name": "stdout",
     "output_type": "stream",
     "text": [
      "Setup complete.\n"
     ]
    }
   ],
   "source": [
    "import pandas as pd\n",
    "\n",
    "reviews = pd.read_csv(\"../input/wine-reviews/winemag-data-130k-v2.csv\", index_col=0)\n",
    "pd.set_option(\"display.max_rows\", 5)\n",
    "\n",
    "from learntools.core import binder; binder.bind(globals())\n",
    "from learntools.pandas.indexing_selecting_and_assigning import *\n",
    "print(\"Setup complete.\")"
   ]
  },
  {
   "cell_type": "markdown",
   "id": "73faa904",
   "metadata": {
    "papermill": {
     "duration": 0.006883,
     "end_time": "2023-02-01T23:53:28.778767",
     "exception": false,
     "start_time": "2023-02-01T23:53:28.771884",
     "status": "completed"
    },
    "tags": []
   },
   "source": [
    "Look at an overview of your data by running the following line."
   ]
  },
  {
   "cell_type": "code",
   "execution_count": 2,
   "id": "1c9ec1ce",
   "metadata": {
    "execution": {
     "iopub.execute_input": "2023-02-01T23:53:28.796024Z",
     "iopub.status.busy": "2023-02-01T23:53:28.794780Z",
     "iopub.status.idle": "2023-02-01T23:53:28.824158Z",
     "shell.execute_reply": "2023-02-01T23:53:28.822684Z"
    },
    "papermill": {
     "duration": 0.041557,
     "end_time": "2023-02-01T23:53:28.827524",
     "exception": false,
     "start_time": "2023-02-01T23:53:28.785967",
     "status": "completed"
    },
    "tags": []
   },
   "outputs": [
    {
     "data": {
      "text/html": [
       "<div>\n",
       "<style scoped>\n",
       "    .dataframe tbody tr th:only-of-type {\n",
       "        vertical-align: middle;\n",
       "    }\n",
       "\n",
       "    .dataframe tbody tr th {\n",
       "        vertical-align: top;\n",
       "    }\n",
       "\n",
       "    .dataframe thead th {\n",
       "        text-align: right;\n",
       "    }\n",
       "</style>\n",
       "<table border=\"1\" class=\"dataframe\">\n",
       "  <thead>\n",
       "    <tr style=\"text-align: right;\">\n",
       "      <th></th>\n",
       "      <th>country</th>\n",
       "      <th>description</th>\n",
       "      <th>designation</th>\n",
       "      <th>points</th>\n",
       "      <th>price</th>\n",
       "      <th>province</th>\n",
       "      <th>region_1</th>\n",
       "      <th>region_2</th>\n",
       "      <th>taster_name</th>\n",
       "      <th>taster_twitter_handle</th>\n",
       "      <th>title</th>\n",
       "      <th>variety</th>\n",
       "      <th>winery</th>\n",
       "    </tr>\n",
       "  </thead>\n",
       "  <tbody>\n",
       "    <tr>\n",
       "      <th>0</th>\n",
       "      <td>Italy</td>\n",
       "      <td>Aromas include tropical fruit, broom, brimston...</td>\n",
       "      <td>Vulkà Bianco</td>\n",
       "      <td>87</td>\n",
       "      <td>NaN</td>\n",
       "      <td>Sicily &amp; Sardinia</td>\n",
       "      <td>Etna</td>\n",
       "      <td>NaN</td>\n",
       "      <td>Kerin O’Keefe</td>\n",
       "      <td>@kerinokeefe</td>\n",
       "      <td>Nicosia 2013 Vulkà Bianco  (Etna)</td>\n",
       "      <td>White Blend</td>\n",
       "      <td>Nicosia</td>\n",
       "    </tr>\n",
       "    <tr>\n",
       "      <th>1</th>\n",
       "      <td>Portugal</td>\n",
       "      <td>This is ripe and fruity, a wine that is smooth...</td>\n",
       "      <td>Avidagos</td>\n",
       "      <td>87</td>\n",
       "      <td>15.0</td>\n",
       "      <td>Douro</td>\n",
       "      <td>NaN</td>\n",
       "      <td>NaN</td>\n",
       "      <td>Roger Voss</td>\n",
       "      <td>@vossroger</td>\n",
       "      <td>Quinta dos Avidagos 2011 Avidagos Red (Douro)</td>\n",
       "      <td>Portuguese Red</td>\n",
       "      <td>Quinta dos Avidagos</td>\n",
       "    </tr>\n",
       "    <tr>\n",
       "      <th>2</th>\n",
       "      <td>US</td>\n",
       "      <td>Tart and snappy, the flavors of lime flesh and...</td>\n",
       "      <td>NaN</td>\n",
       "      <td>87</td>\n",
       "      <td>14.0</td>\n",
       "      <td>Oregon</td>\n",
       "      <td>Willamette Valley</td>\n",
       "      <td>Willamette Valley</td>\n",
       "      <td>Paul Gregutt</td>\n",
       "      <td>@paulgwine</td>\n",
       "      <td>Rainstorm 2013 Pinot Gris (Willamette Valley)</td>\n",
       "      <td>Pinot Gris</td>\n",
       "      <td>Rainstorm</td>\n",
       "    </tr>\n",
       "    <tr>\n",
       "      <th>3</th>\n",
       "      <td>US</td>\n",
       "      <td>Pineapple rind, lemon pith and orange blossom ...</td>\n",
       "      <td>Reserve Late Harvest</td>\n",
       "      <td>87</td>\n",
       "      <td>13.0</td>\n",
       "      <td>Michigan</td>\n",
       "      <td>Lake Michigan Shore</td>\n",
       "      <td>NaN</td>\n",
       "      <td>Alexander Peartree</td>\n",
       "      <td>NaN</td>\n",
       "      <td>St. Julian 2013 Reserve Late Harvest Riesling ...</td>\n",
       "      <td>Riesling</td>\n",
       "      <td>St. Julian</td>\n",
       "    </tr>\n",
       "    <tr>\n",
       "      <th>4</th>\n",
       "      <td>US</td>\n",
       "      <td>Much like the regular bottling from 2012, this...</td>\n",
       "      <td>Vintner's Reserve Wild Child Block</td>\n",
       "      <td>87</td>\n",
       "      <td>65.0</td>\n",
       "      <td>Oregon</td>\n",
       "      <td>Willamette Valley</td>\n",
       "      <td>Willamette Valley</td>\n",
       "      <td>Paul Gregutt</td>\n",
       "      <td>@paulgwine</td>\n",
       "      <td>Sweet Cheeks 2012 Vintner's Reserve Wild Child...</td>\n",
       "      <td>Pinot Noir</td>\n",
       "      <td>Sweet Cheeks</td>\n",
       "    </tr>\n",
       "  </tbody>\n",
       "</table>\n",
       "</div>"
      ],
      "text/plain": [
       "    country                                        description  \\\n",
       "0     Italy  Aromas include tropical fruit, broom, brimston...   \n",
       "1  Portugal  This is ripe and fruity, a wine that is smooth...   \n",
       "2        US  Tart and snappy, the flavors of lime flesh and...   \n",
       "3        US  Pineapple rind, lemon pith and orange blossom ...   \n",
       "4        US  Much like the regular bottling from 2012, this...   \n",
       "\n",
       "                          designation  points  price           province  \\\n",
       "0                        Vulkà Bianco      87    NaN  Sicily & Sardinia   \n",
       "1                            Avidagos      87   15.0              Douro   \n",
       "2                                 NaN      87   14.0             Oregon   \n",
       "3                Reserve Late Harvest      87   13.0           Michigan   \n",
       "4  Vintner's Reserve Wild Child Block      87   65.0             Oregon   \n",
       "\n",
       "              region_1           region_2         taster_name  \\\n",
       "0                 Etna                NaN       Kerin O’Keefe   \n",
       "1                  NaN                NaN          Roger Voss   \n",
       "2    Willamette Valley  Willamette Valley        Paul Gregutt   \n",
       "3  Lake Michigan Shore                NaN  Alexander Peartree   \n",
       "4    Willamette Valley  Willamette Valley        Paul Gregutt   \n",
       "\n",
       "  taster_twitter_handle                                              title  \\\n",
       "0          @kerinokeefe                  Nicosia 2013 Vulkà Bianco  (Etna)   \n",
       "1            @vossroger      Quinta dos Avidagos 2011 Avidagos Red (Douro)   \n",
       "2           @paulgwine       Rainstorm 2013 Pinot Gris (Willamette Valley)   \n",
       "3                   NaN  St. Julian 2013 Reserve Late Harvest Riesling ...   \n",
       "4           @paulgwine   Sweet Cheeks 2012 Vintner's Reserve Wild Child...   \n",
       "\n",
       "          variety               winery  \n",
       "0     White Blend              Nicosia  \n",
       "1  Portuguese Red  Quinta dos Avidagos  \n",
       "2      Pinot Gris            Rainstorm  \n",
       "3        Riesling           St. Julian  \n",
       "4      Pinot Noir         Sweet Cheeks  "
      ]
     },
     "execution_count": 2,
     "metadata": {},
     "output_type": "execute_result"
    }
   ],
   "source": [
    "reviews.head()"
   ]
  },
  {
   "cell_type": "markdown",
   "id": "0cfc5c6f",
   "metadata": {
    "papermill": {
     "duration": 0.007685,
     "end_time": "2023-02-01T23:53:28.843421",
     "exception": false,
     "start_time": "2023-02-01T23:53:28.835736",
     "status": "completed"
    },
    "tags": []
   },
   "source": [
    "# Exercises"
   ]
  },
  {
   "cell_type": "markdown",
   "id": "c1853b70",
   "metadata": {
    "papermill": {
     "duration": 0.008488,
     "end_time": "2023-02-01T23:53:28.860164",
     "exception": false,
     "start_time": "2023-02-01T23:53:28.851676",
     "status": "completed"
    },
    "tags": []
   },
   "source": [
    "## 1.\n",
    "\n",
    "Select the `description` column from `reviews` and assign the result to the variable `desc`."
   ]
  },
  {
   "cell_type": "code",
   "execution_count": 3,
   "id": "ce01cb33",
   "metadata": {
    "execution": {
     "iopub.execute_input": "2023-02-01T23:53:28.878919Z",
     "iopub.status.busy": "2023-02-01T23:53:28.877415Z",
     "iopub.status.idle": "2023-02-01T23:53:28.889063Z",
     "shell.execute_reply": "2023-02-01T23:53:28.887685Z"
    },
    "papermill": {
     "duration": 0.02369,
     "end_time": "2023-02-01T23:53:28.891713",
     "exception": false,
     "start_time": "2023-02-01T23:53:28.868023",
     "status": "completed"
    },
    "tags": []
   },
   "outputs": [
    {
     "data": {
      "application/javascript": [
       "parent.postMessage({\"jupyterEvent\": \"custom.exercise_interaction\", \"data\": {\"outcomeType\": 4, \"interactionType\": 1, \"questionType\": 1, \"questionId\": \"1_SelectDescCol\", \"learnToolsVersion\": \"0.3.4\", \"valueTowardsCompletion\": 0.0, \"failureMessage\": \"\", \"exceptionClass\": \"\", \"trace\": \"\"}}, \"*\")"
      ],
      "text/plain": [
       "<IPython.core.display.Javascript object>"
      ]
     },
     "metadata": {},
     "output_type": "display_data"
    },
    {
     "data": {
      "text/markdown": [
       "<span style=\"color:#ccaa33\">Check:</span> When you've updated the starter code, `check()` will tell you whether your code is correct. You need to update the code that creates variable `desc`"
      ],
      "text/plain": [
       "Check: When you've updated the starter code, `check()` will tell you whether your code is correct. You need to update the code that creates variable `desc`"
      ]
     },
     "metadata": {},
     "output_type": "display_data"
    }
   ],
   "source": [
    "# Your code here\n",
    "desc = ____\n",
    "\n",
    "# Check your answer\n",
    "q1.check()"
   ]
  },
  {
   "cell_type": "markdown",
   "id": "bc311d68",
   "metadata": {
    "papermill": {
     "duration": 0.00764,
     "end_time": "2023-02-01T23:53:28.907267",
     "exception": false,
     "start_time": "2023-02-01T23:53:28.899627",
     "status": "completed"
    },
    "tags": []
   },
   "source": [
    "Follow-up question: what type of object is `desc`? If you're not sure, you can check by calling Python's `type` function: `type(desc)`."
   ]
  },
  {
   "cell_type": "code",
   "execution_count": 4,
   "id": "e176d96d",
   "metadata": {
    "execution": {
     "iopub.execute_input": "2023-02-01T23:53:28.925786Z",
     "iopub.status.busy": "2023-02-01T23:53:28.924880Z",
     "iopub.status.idle": "2023-02-01T23:53:28.930382Z",
     "shell.execute_reply": "2023-02-01T23:53:28.929012Z"
    },
    "papermill": {
     "duration": 0.017938,
     "end_time": "2023-02-01T23:53:28.933346",
     "exception": false,
     "start_time": "2023-02-01T23:53:28.915408",
     "status": "completed"
    },
    "tags": []
   },
   "outputs": [],
   "source": [
    "#q1.hint()\n",
    "#q1.solution()"
   ]
  },
  {
   "cell_type": "markdown",
   "id": "acd56e23",
   "metadata": {
    "papermill": {
     "duration": 0.007942,
     "end_time": "2023-02-01T23:53:28.949879",
     "exception": false,
     "start_time": "2023-02-01T23:53:28.941937",
     "status": "completed"
    },
    "tags": []
   },
   "source": [
    "## 2.\n",
    "\n",
    "Select the first value from the description column of `reviews`, assigning it to variable `first_description`."
   ]
  },
  {
   "cell_type": "code",
   "execution_count": 5,
   "id": "9f42cb2f",
   "metadata": {
    "execution": {
     "iopub.execute_input": "2023-02-01T23:53:28.968468Z",
     "iopub.status.busy": "2023-02-01T23:53:28.968008Z",
     "iopub.status.idle": "2023-02-01T23:53:28.980140Z",
     "shell.execute_reply": "2023-02-01T23:53:28.978836Z"
    },
    "papermill": {
     "duration": 0.024723,
     "end_time": "2023-02-01T23:53:28.982726",
     "exception": false,
     "start_time": "2023-02-01T23:53:28.958003",
     "status": "completed"
    },
    "tags": []
   },
   "outputs": [
    {
     "data": {
      "application/javascript": [
       "parent.postMessage({\"jupyterEvent\": \"custom.exercise_interaction\", \"data\": {\"outcomeType\": 4, \"interactionType\": 1, \"questionType\": 1, \"questionId\": \"2_FirstDesc\", \"learnToolsVersion\": \"0.3.4\", \"valueTowardsCompletion\": 0.0, \"failureMessage\": \"\", \"exceptionClass\": \"\", \"trace\": \"\"}}, \"*\")"
      ],
      "text/plain": [
       "<IPython.core.display.Javascript object>"
      ]
     },
     "metadata": {},
     "output_type": "display_data"
    },
    {
     "data": {
      "text/markdown": [
       "<span style=\"color:#ccaa33\">Check:</span> When you've updated the starter code, `check()` will tell you whether your code is correct. You need to update the code that creates variable `first_description`"
      ],
      "text/plain": [
       "Check: When you've updated the starter code, `check()` will tell you whether your code is correct. You need to update the code that creates variable `first_description`"
      ]
     },
     "metadata": {},
     "output_type": "display_data"
    },
    {
     "data": {
      "text/markdown": [],
      "text/plain": [
       "<learntools.core.constants.PlaceholderValue at 0x7f58be18c750>"
      ]
     },
     "execution_count": 5,
     "metadata": {},
     "output_type": "execute_result"
    }
   ],
   "source": [
    "first_description = ____\n",
    "\n",
    "# Check your answer\n",
    "q2.check()\n",
    "first_description"
   ]
  },
  {
   "cell_type": "code",
   "execution_count": 6,
   "id": "148727f9",
   "metadata": {
    "execution": {
     "iopub.execute_input": "2023-02-01T23:53:29.002218Z",
     "iopub.status.busy": "2023-02-01T23:53:29.001753Z",
     "iopub.status.idle": "2023-02-01T23:53:29.006421Z",
     "shell.execute_reply": "2023-02-01T23:53:29.005060Z"
    },
    "papermill": {
     "duration": 0.018023,
     "end_time": "2023-02-01T23:53:29.009329",
     "exception": false,
     "start_time": "2023-02-01T23:53:28.991306",
     "status": "completed"
    },
    "tags": []
   },
   "outputs": [],
   "source": [
    "#q2.hint()\n",
    "#q2.solution()"
   ]
  },
  {
   "cell_type": "markdown",
   "id": "a83ea23c",
   "metadata": {
    "papermill": {
     "duration": 0.008254,
     "end_time": "2023-02-01T23:53:29.026185",
     "exception": false,
     "start_time": "2023-02-01T23:53:29.017931",
     "status": "completed"
    },
    "tags": []
   },
   "source": [
    "## 3. \n",
    "\n",
    "Select the first row of data (the first record) from `reviews`, assigning it to the variable `first_row`."
   ]
  },
  {
   "cell_type": "code",
   "execution_count": 7,
   "id": "7bc6de1e",
   "metadata": {
    "execution": {
     "iopub.execute_input": "2023-02-01T23:53:29.046519Z",
     "iopub.status.busy": "2023-02-01T23:53:29.045578Z",
     "iopub.status.idle": "2023-02-01T23:53:29.058749Z",
     "shell.execute_reply": "2023-02-01T23:53:29.057447Z"
    },
    "papermill": {
     "duration": 0.026394,
     "end_time": "2023-02-01T23:53:29.061697",
     "exception": false,
     "start_time": "2023-02-01T23:53:29.035303",
     "status": "completed"
    },
    "tags": []
   },
   "outputs": [
    {
     "data": {
      "application/javascript": [
       "parent.postMessage({\"jupyterEvent\": \"custom.exercise_interaction\", \"data\": {\"outcomeType\": 4, \"interactionType\": 1, \"questionType\": 1, \"questionId\": \"3_FirstRow\", \"learnToolsVersion\": \"0.3.4\", \"valueTowardsCompletion\": 0.0, \"failureMessage\": \"\", \"exceptionClass\": \"\", \"trace\": \"\"}}, \"*\")"
      ],
      "text/plain": [
       "<IPython.core.display.Javascript object>"
      ]
     },
     "metadata": {},
     "output_type": "display_data"
    },
    {
     "data": {
      "text/markdown": [
       "<span style=\"color:#ccaa33\">Check:</span> When you've updated the starter code, `check()` will tell you whether your code is correct. You need to update the code that creates variable `first_row`"
      ],
      "text/plain": [
       "Check: When you've updated the starter code, `check()` will tell you whether your code is correct. You need to update the code that creates variable `first_row`"
      ]
     },
     "metadata": {},
     "output_type": "display_data"
    },
    {
     "data": {
      "text/markdown": [],
      "text/plain": [
       "<learntools.core.constants.PlaceholderValue at 0x7f58be18c750>"
      ]
     },
     "execution_count": 7,
     "metadata": {},
     "output_type": "execute_result"
    }
   ],
   "source": [
    "first_row = ____\n",
    "\n",
    "# Check your answer\n",
    "q3.check()\n",
    "first_row"
   ]
  },
  {
   "cell_type": "code",
   "execution_count": 8,
   "id": "2c105813",
   "metadata": {
    "execution": {
     "iopub.execute_input": "2023-02-01T23:53:29.081747Z",
     "iopub.status.busy": "2023-02-01T23:53:29.081259Z",
     "iopub.status.idle": "2023-02-01T23:53:29.086500Z",
     "shell.execute_reply": "2023-02-01T23:53:29.085022Z"
    },
    "papermill": {
     "duration": 0.018581,
     "end_time": "2023-02-01T23:53:29.089170",
     "exception": false,
     "start_time": "2023-02-01T23:53:29.070589",
     "status": "completed"
    },
    "tags": []
   },
   "outputs": [],
   "source": [
    "#q3.hint()\n",
    "#q3.solution()"
   ]
  },
  {
   "cell_type": "markdown",
   "id": "8b26a230",
   "metadata": {
    "papermill": {
     "duration": 0.008735,
     "end_time": "2023-02-01T23:53:29.107382",
     "exception": false,
     "start_time": "2023-02-01T23:53:29.098647",
     "status": "completed"
    },
    "tags": []
   },
   "source": [
    "## 4.\n",
    "\n",
    "Select the first 10 values from the `description` column in `reviews`, assigning the result to variable `first_descriptions`.\n",
    "\n",
    "Hint: format your output as a pandas Series."
   ]
  },
  {
   "cell_type": "code",
   "execution_count": 9,
   "id": "a30adb0e",
   "metadata": {
    "execution": {
     "iopub.execute_input": "2023-02-01T23:53:29.128169Z",
     "iopub.status.busy": "2023-02-01T23:53:29.126827Z",
     "iopub.status.idle": "2023-02-01T23:53:29.141067Z",
     "shell.execute_reply": "2023-02-01T23:53:29.139813Z"
    },
    "papermill": {
     "duration": 0.02764,
     "end_time": "2023-02-01T23:53:29.143873",
     "exception": false,
     "start_time": "2023-02-01T23:53:29.116233",
     "status": "completed"
    },
    "tags": []
   },
   "outputs": [
    {
     "data": {
      "application/javascript": [
       "parent.postMessage({\"jupyterEvent\": \"custom.exercise_interaction\", \"data\": {\"outcomeType\": 4, \"interactionType\": 1, \"questionType\": 1, \"questionId\": \"4_FirstDescs\", \"learnToolsVersion\": \"0.3.4\", \"valueTowardsCompletion\": 0.0, \"failureMessage\": \"\", \"exceptionClass\": \"\", \"trace\": \"\"}}, \"*\")"
      ],
      "text/plain": [
       "<IPython.core.display.Javascript object>"
      ]
     },
     "metadata": {},
     "output_type": "display_data"
    },
    {
     "data": {
      "text/markdown": [
       "<span style=\"color:#ccaa33\">Check:</span> When you've updated the starter code, `check()` will tell you whether your code is correct. You need to update the code that creates variable `first_descriptions`"
      ],
      "text/plain": [
       "Check: When you've updated the starter code, `check()` will tell you whether your code is correct. You need to update the code that creates variable `first_descriptions`"
      ]
     },
     "metadata": {},
     "output_type": "display_data"
    },
    {
     "data": {
      "text/markdown": [],
      "text/plain": [
       "<learntools.core.constants.PlaceholderValue at 0x7f58be18c750>"
      ]
     },
     "execution_count": 9,
     "metadata": {},
     "output_type": "execute_result"
    }
   ],
   "source": [
    "first_descriptions = ____\n",
    "\n",
    "# Check your answer\n",
    "q4.check()\n",
    "first_descriptions"
   ]
  },
  {
   "cell_type": "code",
   "execution_count": 10,
   "id": "f4d39cc3",
   "metadata": {
    "execution": {
     "iopub.execute_input": "2023-02-01T23:53:29.165012Z",
     "iopub.status.busy": "2023-02-01T23:53:29.164442Z",
     "iopub.status.idle": "2023-02-01T23:53:29.169941Z",
     "shell.execute_reply": "2023-02-01T23:53:29.168387Z"
    },
    "papermill": {
     "duration": 0.019616,
     "end_time": "2023-02-01T23:53:29.172970",
     "exception": false,
     "start_time": "2023-02-01T23:53:29.153354",
     "status": "completed"
    },
    "tags": []
   },
   "outputs": [],
   "source": [
    "#q4.hint()\n",
    "#q4.solution()"
   ]
  },
  {
   "cell_type": "markdown",
   "id": "74ee0dbe",
   "metadata": {
    "papermill": {
     "duration": 0.011615,
     "end_time": "2023-02-01T23:53:29.194906",
     "exception": false,
     "start_time": "2023-02-01T23:53:29.183291",
     "status": "completed"
    },
    "tags": []
   },
   "source": [
    "## 5.\n",
    "\n",
    "Select the records with index labels `1`, `2`, `3`, `5`, and `8`, assigning the result to the variable `sample_reviews`.\n",
    "\n",
    "In other words, generate the following DataFrame:\n",
    "\n",
    "![](https://i.imgur.com/sHZvI1O.png)"
   ]
  },
  {
   "cell_type": "code",
   "execution_count": 11,
   "id": "55439a2c",
   "metadata": {
    "execution": {
     "iopub.execute_input": "2023-02-01T23:53:29.218058Z",
     "iopub.status.busy": "2023-02-01T23:53:29.217455Z",
     "iopub.status.idle": "2023-02-01T23:53:29.231298Z",
     "shell.execute_reply": "2023-02-01T23:53:29.230031Z"
    },
    "papermill": {
     "duration": 0.028989,
     "end_time": "2023-02-01T23:53:29.234177",
     "exception": false,
     "start_time": "2023-02-01T23:53:29.205188",
     "status": "completed"
    },
    "tags": []
   },
   "outputs": [
    {
     "data": {
      "application/javascript": [
       "parent.postMessage({\"jupyterEvent\": \"custom.exercise_interaction\", \"data\": {\"outcomeType\": 4, \"interactionType\": 1, \"questionType\": 1, \"questionId\": \"5_SampleReviews\", \"learnToolsVersion\": \"0.3.4\", \"valueTowardsCompletion\": 0.0, \"failureMessage\": \"\", \"exceptionClass\": \"\", \"trace\": \"\"}}, \"*\")"
      ],
      "text/plain": [
       "<IPython.core.display.Javascript object>"
      ]
     },
     "metadata": {},
     "output_type": "display_data"
    },
    {
     "data": {
      "text/markdown": [
       "<span style=\"color:#ccaa33\">Check:</span> When you've updated the starter code, `check()` will tell you whether your code is correct. You need to update the code that creates variable `sample_reviews`"
      ],
      "text/plain": [
       "Check: When you've updated the starter code, `check()` will tell you whether your code is correct. You need to update the code that creates variable `sample_reviews`"
      ]
     },
     "metadata": {},
     "output_type": "display_data"
    },
    {
     "data": {
      "text/markdown": [],
      "text/plain": [
       "<learntools.core.constants.PlaceholderValue at 0x7f58be18c750>"
      ]
     },
     "execution_count": 11,
     "metadata": {},
     "output_type": "execute_result"
    }
   ],
   "source": [
    "sample_reviews = ____\n",
    "\n",
    "# Check your answer\n",
    "q5.check()\n",
    "sample_reviews"
   ]
  },
  {
   "cell_type": "code",
   "execution_count": 12,
   "id": "a0cae89c",
   "metadata": {
    "execution": {
     "iopub.execute_input": "2023-02-01T23:53:29.257651Z",
     "iopub.status.busy": "2023-02-01T23:53:29.257129Z",
     "iopub.status.idle": "2023-02-01T23:53:29.262759Z",
     "shell.execute_reply": "2023-02-01T23:53:29.261194Z"
    },
    "papermill": {
     "duration": 0.020676,
     "end_time": "2023-02-01T23:53:29.265533",
     "exception": false,
     "start_time": "2023-02-01T23:53:29.244857",
     "status": "completed"
    },
    "tags": []
   },
   "outputs": [],
   "source": [
    "#q5.hint()\n",
    "#q5.solution()"
   ]
  },
  {
   "cell_type": "markdown",
   "id": "c6e6abed",
   "metadata": {
    "papermill": {
     "duration": 0.009428,
     "end_time": "2023-02-01T23:53:29.285278",
     "exception": false,
     "start_time": "2023-02-01T23:53:29.275850",
     "status": "completed"
    },
    "tags": []
   },
   "source": [
    "## 6.\n",
    "\n",
    "Create a variable `df` containing the `country`, `province`, `region_1`, and `region_2` columns of the records with the index labels `0`, `1`, `10`, and `100`. In other words, generate the following DataFrame:\n",
    "\n",
    "![](https://i.imgur.com/FUCGiKP.png)"
   ]
  },
  {
   "cell_type": "code",
   "execution_count": 13,
   "id": "4c15d69e",
   "metadata": {
    "execution": {
     "iopub.execute_input": "2023-02-01T23:53:29.307287Z",
     "iopub.status.busy": "2023-02-01T23:53:29.306816Z",
     "iopub.status.idle": "2023-02-01T23:53:29.319634Z",
     "shell.execute_reply": "2023-02-01T23:53:29.318150Z"
    },
    "papermill": {
     "duration": 0.027133,
     "end_time": "2023-02-01T23:53:29.322424",
     "exception": false,
     "start_time": "2023-02-01T23:53:29.295291",
     "status": "completed"
    },
    "tags": []
   },
   "outputs": [
    {
     "data": {
      "application/javascript": [
       "parent.postMessage({\"jupyterEvent\": \"custom.exercise_interaction\", \"data\": {\"outcomeType\": 4, \"interactionType\": 1, \"questionType\": 1, \"questionId\": \"6_RowColSelect\", \"learnToolsVersion\": \"0.3.4\", \"valueTowardsCompletion\": 0.0, \"failureMessage\": \"\", \"exceptionClass\": \"\", \"trace\": \"\"}}, \"*\")"
      ],
      "text/plain": [
       "<IPython.core.display.Javascript object>"
      ]
     },
     "metadata": {},
     "output_type": "display_data"
    },
    {
     "data": {
      "text/markdown": [
       "<span style=\"color:#ccaa33\">Check:</span> When you've updated the starter code, `check()` will tell you whether your code is correct. You need to update the code that creates variable `df`"
      ],
      "text/plain": [
       "Check: When you've updated the starter code, `check()` will tell you whether your code is correct. You need to update the code that creates variable `df`"
      ]
     },
     "metadata": {},
     "output_type": "display_data"
    },
    {
     "data": {
      "text/markdown": [],
      "text/plain": [
       "<learntools.core.constants.PlaceholderValue at 0x7f58be18c750>"
      ]
     },
     "execution_count": 13,
     "metadata": {},
     "output_type": "execute_result"
    }
   ],
   "source": [
    "df = ____\n",
    "\n",
    "# Check your answer\n",
    "q6.check()\n",
    "df"
   ]
  },
  {
   "cell_type": "code",
   "execution_count": 14,
   "id": "1b95da49",
   "metadata": {
    "execution": {
     "iopub.execute_input": "2023-02-01T23:53:29.346942Z",
     "iopub.status.busy": "2023-02-01T23:53:29.345581Z",
     "iopub.status.idle": "2023-02-01T23:53:29.352098Z",
     "shell.execute_reply": "2023-02-01T23:53:29.350658Z"
    },
    "papermill": {
     "duration": 0.021839,
     "end_time": "2023-02-01T23:53:29.355217",
     "exception": false,
     "start_time": "2023-02-01T23:53:29.333378",
     "status": "completed"
    },
    "tags": []
   },
   "outputs": [],
   "source": [
    "#q6.hint()\n",
    "#q6.solution()"
   ]
  },
  {
   "cell_type": "markdown",
   "id": "47fefe32",
   "metadata": {
    "papermill": {
     "duration": 0.010431,
     "end_time": "2023-02-01T23:53:29.376783",
     "exception": false,
     "start_time": "2023-02-01T23:53:29.366352",
     "status": "completed"
    },
    "tags": []
   },
   "source": [
    "## 7.\n",
    "\n",
    "Create a variable `df` containing the `country` and `variety` columns of the first 100 records. \n",
    "\n",
    "Hint: you may use `loc` or `iloc`. When working on the answer this question and the several of the ones that follow, keep the following \"gotcha\" described in the tutorial:\n",
    "\n",
    "> `iloc` uses the Python stdlib indexing scheme, where the first element of the range is included and the last one excluded. \n",
    "`loc`, meanwhile, indexes inclusively. \n",
    "\n",
    "> This is particularly confusing when the DataFrame index is a simple numerical list, e.g. `0,...,1000`. In this case `df.iloc[0:1000]` will return 1000 entries, while `df.loc[0:1000]` return 1001 of them! To get 1000 elements using `loc`, you will need to go one lower and ask for `df.iloc[0:999]`. "
   ]
  },
  {
   "cell_type": "code",
   "execution_count": 15,
   "id": "507f6d1a",
   "metadata": {
    "execution": {
     "iopub.execute_input": "2023-02-01T23:53:29.401287Z",
     "iopub.status.busy": "2023-02-01T23:53:29.400395Z",
     "iopub.status.idle": "2023-02-01T23:53:29.413823Z",
     "shell.execute_reply": "2023-02-01T23:53:29.412663Z"
    },
    "papermill": {
     "duration": 0.028742,
     "end_time": "2023-02-01T23:53:29.416420",
     "exception": false,
     "start_time": "2023-02-01T23:53:29.387678",
     "status": "completed"
    },
    "tags": []
   },
   "outputs": [
    {
     "data": {
      "application/javascript": [
       "parent.postMessage({\"jupyterEvent\": \"custom.exercise_interaction\", \"data\": {\"outcomeType\": 4, \"interactionType\": 1, \"questionType\": 1, \"questionId\": \"7_RowColSelect2\", \"learnToolsVersion\": \"0.3.4\", \"valueTowardsCompletion\": 0.0, \"failureMessage\": \"\", \"exceptionClass\": \"\", \"trace\": \"\"}}, \"*\")"
      ],
      "text/plain": [
       "<IPython.core.display.Javascript object>"
      ]
     },
     "metadata": {},
     "output_type": "display_data"
    },
    {
     "data": {
      "text/markdown": [
       "<span style=\"color:#ccaa33\">Check:</span> When you've updated the starter code, `check()` will tell you whether your code is correct. You need to update the code that creates variable `df`"
      ],
      "text/plain": [
       "Check: When you've updated the starter code, `check()` will tell you whether your code is correct. You need to update the code that creates variable `df`"
      ]
     },
     "metadata": {},
     "output_type": "display_data"
    },
    {
     "data": {
      "text/markdown": [],
      "text/plain": [
       "<learntools.core.constants.PlaceholderValue at 0x7f58be18c750>"
      ]
     },
     "execution_count": 15,
     "metadata": {},
     "output_type": "execute_result"
    }
   ],
   "source": [
    "df = ____\n",
    "\n",
    "# Check your answer\n",
    "q7.check()\n",
    "df"
   ]
  },
  {
   "cell_type": "code",
   "execution_count": 16,
   "id": "a1680010",
   "metadata": {
    "execution": {
     "iopub.execute_input": "2023-02-01T23:53:29.440510Z",
     "iopub.status.busy": "2023-02-01T23:53:29.440045Z",
     "iopub.status.idle": "2023-02-01T23:53:29.445409Z",
     "shell.execute_reply": "2023-02-01T23:53:29.444005Z"
    },
    "papermill": {
     "duration": 0.020612,
     "end_time": "2023-02-01T23:53:29.448194",
     "exception": false,
     "start_time": "2023-02-01T23:53:29.427582",
     "status": "completed"
    },
    "tags": []
   },
   "outputs": [],
   "source": [
    "#q7.hint()\n",
    "#q7.solution()"
   ]
  },
  {
   "cell_type": "markdown",
   "id": "5dd3ff3a",
   "metadata": {
    "papermill": {
     "duration": 0.010446,
     "end_time": "2023-02-01T23:53:29.469692",
     "exception": false,
     "start_time": "2023-02-01T23:53:29.459246",
     "status": "completed"
    },
    "tags": []
   },
   "source": [
    "## 8.\n",
    "\n",
    "Create a DataFrame `italian_wines` containing reviews of wines made in `Italy`. Hint: `reviews.country` equals what?"
   ]
  },
  {
   "cell_type": "code",
   "execution_count": 17,
   "id": "9518d9fa",
   "metadata": {
    "execution": {
     "iopub.execute_input": "2023-02-01T23:53:29.493832Z",
     "iopub.status.busy": "2023-02-01T23:53:29.493300Z",
     "iopub.status.idle": "2023-02-01T23:53:29.504555Z",
     "shell.execute_reply": "2023-02-01T23:53:29.502947Z"
    },
    "papermill": {
     "duration": 0.026926,
     "end_time": "2023-02-01T23:53:29.507540",
     "exception": false,
     "start_time": "2023-02-01T23:53:29.480614",
     "status": "completed"
    },
    "tags": []
   },
   "outputs": [
    {
     "data": {
      "application/javascript": [
       "parent.postMessage({\"jupyterEvent\": \"custom.exercise_interaction\", \"data\": {\"outcomeType\": 4, \"interactionType\": 1, \"questionType\": 1, \"questionId\": \"8_ItalianWines\", \"learnToolsVersion\": \"0.3.4\", \"valueTowardsCompletion\": 0.0, \"failureMessage\": \"\", \"exceptionClass\": \"\", \"trace\": \"\"}}, \"*\")"
      ],
      "text/plain": [
       "<IPython.core.display.Javascript object>"
      ]
     },
     "metadata": {},
     "output_type": "display_data"
    },
    {
     "data": {
      "text/markdown": [
       "<span style=\"color:#ccaa33\">Check:</span> When you've updated the starter code, `check()` will tell you whether your code is correct. You need to update the code that creates variable `italian_wines`"
      ],
      "text/plain": [
       "Check: When you've updated the starter code, `check()` will tell you whether your code is correct. You need to update the code that creates variable `italian_wines`"
      ]
     },
     "metadata": {},
     "output_type": "display_data"
    }
   ],
   "source": [
    "italian_wines = ____\n",
    "\n",
    "# Check your answer\n",
    "q8.check()"
   ]
  },
  {
   "cell_type": "code",
   "execution_count": 18,
   "id": "03d89a3a",
   "metadata": {
    "execution": {
     "iopub.execute_input": "2023-02-01T23:53:29.532764Z",
     "iopub.status.busy": "2023-02-01T23:53:29.532192Z",
     "iopub.status.idle": "2023-02-01T23:53:29.537973Z",
     "shell.execute_reply": "2023-02-01T23:53:29.536668Z"
    },
    "papermill": {
     "duration": 0.022181,
     "end_time": "2023-02-01T23:53:29.541097",
     "exception": false,
     "start_time": "2023-02-01T23:53:29.518916",
     "status": "completed"
    },
    "tags": []
   },
   "outputs": [],
   "source": [
    "#q8.hint()\n",
    "#q8.solution()"
   ]
  },
  {
   "cell_type": "markdown",
   "id": "ac3ecccb",
   "metadata": {
    "papermill": {
     "duration": 0.011387,
     "end_time": "2023-02-01T23:53:29.563843",
     "exception": false,
     "start_time": "2023-02-01T23:53:29.552456",
     "status": "completed"
    },
    "tags": []
   },
   "source": [
    "## 9.\n",
    "\n",
    "Create a DataFrame `top_oceania_wines` containing all reviews with at least 95 points (out of 100) for wines from Australia or New Zealand."
   ]
  },
  {
   "cell_type": "code",
   "execution_count": 19,
   "id": "41956af3",
   "metadata": {
    "execution": {
     "iopub.execute_input": "2023-02-01T23:53:29.590869Z",
     "iopub.status.busy": "2023-02-01T23:53:29.590242Z",
     "iopub.status.idle": "2023-02-01T23:53:29.603736Z",
     "shell.execute_reply": "2023-02-01T23:53:29.602455Z"
    },
    "papermill": {
     "duration": 0.030319,
     "end_time": "2023-02-01T23:53:29.606419",
     "exception": false,
     "start_time": "2023-02-01T23:53:29.576100",
     "status": "completed"
    },
    "tags": []
   },
   "outputs": [
    {
     "data": {
      "application/javascript": [
       "parent.postMessage({\"jupyterEvent\": \"custom.exercise_interaction\", \"data\": {\"outcomeType\": 4, \"interactionType\": 1, \"questionType\": 1, \"questionId\": \"9_TopOceanicWines\", \"learnToolsVersion\": \"0.3.4\", \"valueTowardsCompletion\": 0.0, \"failureMessage\": \"\", \"exceptionClass\": \"\", \"trace\": \"\"}}, \"*\")"
      ],
      "text/plain": [
       "<IPython.core.display.Javascript object>"
      ]
     },
     "metadata": {},
     "output_type": "display_data"
    },
    {
     "data": {
      "text/markdown": [
       "<span style=\"color:#ccaa33\">Check:</span> When you've updated the starter code, `check()` will tell you whether your code is correct. You need to update the code that creates variable `top_oceania_wines`"
      ],
      "text/plain": [
       "Check: When you've updated the starter code, `check()` will tell you whether your code is correct. You need to update the code that creates variable `top_oceania_wines`"
      ]
     },
     "metadata": {},
     "output_type": "display_data"
    },
    {
     "data": {
      "text/markdown": [],
      "text/plain": [
       "<learntools.core.constants.PlaceholderValue at 0x7f58be18c750>"
      ]
     },
     "execution_count": 19,
     "metadata": {},
     "output_type": "execute_result"
    }
   ],
   "source": [
    "top_oceania_wines = ____\n",
    "\n",
    "# Check your answer\n",
    "q9.check()\n",
    "top_oceania_wines"
   ]
  },
  {
   "cell_type": "code",
   "execution_count": 20,
   "id": "edf26527",
   "metadata": {
    "execution": {
     "iopub.execute_input": "2023-02-01T23:53:29.632333Z",
     "iopub.status.busy": "2023-02-01T23:53:29.631304Z",
     "iopub.status.idle": "2023-02-01T23:53:29.636808Z",
     "shell.execute_reply": "2023-02-01T23:53:29.635509Z"
    },
    "papermill": {
     "duration": 0.02105,
     "end_time": "2023-02-01T23:53:29.639260",
     "exception": false,
     "start_time": "2023-02-01T23:53:29.618210",
     "status": "completed"
    },
    "tags": []
   },
   "outputs": [],
   "source": [
    "#q9.hint()\n",
    "#q9.solution()"
   ]
  },
  {
   "cell_type": "markdown",
   "id": "825dcd9e",
   "metadata": {
    "papermill": {
     "duration": 0.011647,
     "end_time": "2023-02-01T23:53:29.663417",
     "exception": false,
     "start_time": "2023-02-01T23:53:29.651770",
     "status": "completed"
    },
    "tags": []
   },
   "source": [
    "# Keep going\n",
    "\n",
    "Move on to learn about **[summary functions and maps](https://www.kaggle.com/residentmario/summary-functions-and-maps)**."
   ]
  },
  {
   "cell_type": "markdown",
   "id": "896892c0",
   "metadata": {
    "papermill": {
     "duration": 0.011453,
     "end_time": "2023-02-01T23:53:29.686821",
     "exception": false,
     "start_time": "2023-02-01T23:53:29.675368",
     "status": "completed"
    },
    "tags": []
   },
   "source": [
    "---\n",
    "\n",
    "\n",
    "\n",
    "\n",
    "*Have questions or comments? Visit the [course discussion forum](https://www.kaggle.com/learn/pandas/discussion) to chat with other learners.*"
   ]
  }
 ],
 "metadata": {
  "kernelspec": {
   "display_name": "Python 3",
   "language": "python",
   "name": "python3"
  },
  "language_info": {
   "codemirror_mode": {
    "name": "ipython",
    "version": 3
   },
   "file_extension": ".py",
   "mimetype": "text/x-python",
   "name": "python",
   "nbconvert_exporter": "python",
   "pygments_lexer": "ipython3",
   "version": "3.7.12"
  },
  "papermill": {
   "default_parameters": {},
   "duration": 14.650702,
   "end_time": "2023-02-01T23:53:30.523979",
   "environment_variables": {},
   "exception": null,
   "input_path": "__notebook__.ipynb",
   "output_path": "__notebook__.ipynb",
   "parameters": {},
   "start_time": "2023-02-01T23:53:15.873277",
   "version": "2.3.4"
  }
 },
 "nbformat": 4,
 "nbformat_minor": 5
}
