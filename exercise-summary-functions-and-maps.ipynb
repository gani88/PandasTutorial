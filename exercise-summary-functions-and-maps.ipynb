{
 "cells": [
  {
   "cell_type": "markdown",
   "id": "3b7e8558",
   "metadata": {
    "papermill": {
     "duration": 0.006521,
     "end_time": "2023-02-06T01:15:19.717794",
     "exception": false,
     "start_time": "2023-02-06T01:15:19.711273",
     "status": "completed"
    },
    "tags": []
   },
   "source": [
    "**This notebook is an exercise in the [Pandas](https://www.kaggle.com/learn/pandas) course.  You can reference the tutorial at [this link](https://www.kaggle.com/residentmario/summary-functions-and-maps).**\n",
    "\n",
    "---\n"
   ]
  },
  {
   "cell_type": "markdown",
   "id": "31ca1303",
   "metadata": {
    "papermill": {
     "duration": 0.004807,
     "end_time": "2023-02-06T01:15:19.727747",
     "exception": false,
     "start_time": "2023-02-06T01:15:19.722940",
     "status": "completed"
    },
    "tags": []
   },
   "source": [
    "# Introduction\n",
    "\n",
    "Now you are ready to get a deeper understanding of your data.\n",
    "\n",
    "Run the following cell to load your data and some utility functions (including code to check your answers)."
   ]
  },
  {
   "cell_type": "code",
   "execution_count": 1,
   "id": "adad9872",
   "metadata": {
    "execution": {
     "iopub.execute_input": "2023-02-06T01:15:19.740012Z",
     "iopub.status.busy": "2023-02-06T01:15:19.739332Z",
     "iopub.status.idle": "2023-02-06T01:15:26.917956Z",
     "shell.execute_reply": "2023-02-06T01:15:26.915942Z"
    },
    "papermill": {
     "duration": 7.188445,
     "end_time": "2023-02-06T01:15:26.921171",
     "exception": false,
     "start_time": "2023-02-06T01:15:19.732726",
     "status": "completed"
    },
    "tags": []
   },
   "outputs": [
    {
     "name": "stdout",
     "output_type": "stream",
     "text": [
      "Setup complete.\n"
     ]
    },
    {
     "data": {
      "text/html": [
       "<div>\n",
       "<style scoped>\n",
       "    .dataframe tbody tr th:only-of-type {\n",
       "        vertical-align: middle;\n",
       "    }\n",
       "\n",
       "    .dataframe tbody tr th {\n",
       "        vertical-align: top;\n",
       "    }\n",
       "\n",
       "    .dataframe thead th {\n",
       "        text-align: right;\n",
       "    }\n",
       "</style>\n",
       "<table border=\"1\" class=\"dataframe\">\n",
       "  <thead>\n",
       "    <tr style=\"text-align: right;\">\n",
       "      <th></th>\n",
       "      <th>country</th>\n",
       "      <th>description</th>\n",
       "      <th>designation</th>\n",
       "      <th>points</th>\n",
       "      <th>price</th>\n",
       "      <th>province</th>\n",
       "      <th>region_1</th>\n",
       "      <th>region_2</th>\n",
       "      <th>taster_name</th>\n",
       "      <th>taster_twitter_handle</th>\n",
       "      <th>title</th>\n",
       "      <th>variety</th>\n",
       "      <th>winery</th>\n",
       "    </tr>\n",
       "  </thead>\n",
       "  <tbody>\n",
       "    <tr>\n",
       "      <th>0</th>\n",
       "      <td>Italy</td>\n",
       "      <td>Aromas include tropical fruit, broom, brimston...</td>\n",
       "      <td>Vulkà Bianco</td>\n",
       "      <td>87</td>\n",
       "      <td>NaN</td>\n",
       "      <td>Sicily &amp; Sardinia</td>\n",
       "      <td>Etna</td>\n",
       "      <td>NaN</td>\n",
       "      <td>Kerin O’Keefe</td>\n",
       "      <td>@kerinokeefe</td>\n",
       "      <td>Nicosia 2013 Vulkà Bianco  (Etna)</td>\n",
       "      <td>White Blend</td>\n",
       "      <td>Nicosia</td>\n",
       "    </tr>\n",
       "    <tr>\n",
       "      <th>1</th>\n",
       "      <td>Portugal</td>\n",
       "      <td>This is ripe and fruity, a wine that is smooth...</td>\n",
       "      <td>Avidagos</td>\n",
       "      <td>87</td>\n",
       "      <td>15.0</td>\n",
       "      <td>Douro</td>\n",
       "      <td>NaN</td>\n",
       "      <td>NaN</td>\n",
       "      <td>Roger Voss</td>\n",
       "      <td>@vossroger</td>\n",
       "      <td>Quinta dos Avidagos 2011 Avidagos Red (Douro)</td>\n",
       "      <td>Portuguese Red</td>\n",
       "      <td>Quinta dos Avidagos</td>\n",
       "    </tr>\n",
       "    <tr>\n",
       "      <th>2</th>\n",
       "      <td>US</td>\n",
       "      <td>Tart and snappy, the flavors of lime flesh and...</td>\n",
       "      <td>NaN</td>\n",
       "      <td>87</td>\n",
       "      <td>14.0</td>\n",
       "      <td>Oregon</td>\n",
       "      <td>Willamette Valley</td>\n",
       "      <td>Willamette Valley</td>\n",
       "      <td>Paul Gregutt</td>\n",
       "      <td>@paulgwine</td>\n",
       "      <td>Rainstorm 2013 Pinot Gris (Willamette Valley)</td>\n",
       "      <td>Pinot Gris</td>\n",
       "      <td>Rainstorm</td>\n",
       "    </tr>\n",
       "    <tr>\n",
       "      <th>3</th>\n",
       "      <td>US</td>\n",
       "      <td>Pineapple rind, lemon pith and orange blossom ...</td>\n",
       "      <td>Reserve Late Harvest</td>\n",
       "      <td>87</td>\n",
       "      <td>13.0</td>\n",
       "      <td>Michigan</td>\n",
       "      <td>Lake Michigan Shore</td>\n",
       "      <td>NaN</td>\n",
       "      <td>Alexander Peartree</td>\n",
       "      <td>NaN</td>\n",
       "      <td>St. Julian 2013 Reserve Late Harvest Riesling ...</td>\n",
       "      <td>Riesling</td>\n",
       "      <td>St. Julian</td>\n",
       "    </tr>\n",
       "    <tr>\n",
       "      <th>4</th>\n",
       "      <td>US</td>\n",
       "      <td>Much like the regular bottling from 2012, this...</td>\n",
       "      <td>Vintner's Reserve Wild Child Block</td>\n",
       "      <td>87</td>\n",
       "      <td>65.0</td>\n",
       "      <td>Oregon</td>\n",
       "      <td>Willamette Valley</td>\n",
       "      <td>Willamette Valley</td>\n",
       "      <td>Paul Gregutt</td>\n",
       "      <td>@paulgwine</td>\n",
       "      <td>Sweet Cheeks 2012 Vintner's Reserve Wild Child...</td>\n",
       "      <td>Pinot Noir</td>\n",
       "      <td>Sweet Cheeks</td>\n",
       "    </tr>\n",
       "  </tbody>\n",
       "</table>\n",
       "</div>"
      ],
      "text/plain": [
       "    country                                        description  \\\n",
       "0     Italy  Aromas include tropical fruit, broom, brimston...   \n",
       "1  Portugal  This is ripe and fruity, a wine that is smooth...   \n",
       "2        US  Tart and snappy, the flavors of lime flesh and...   \n",
       "3        US  Pineapple rind, lemon pith and orange blossom ...   \n",
       "4        US  Much like the regular bottling from 2012, this...   \n",
       "\n",
       "                          designation  points  price           province  \\\n",
       "0                        Vulkà Bianco      87    NaN  Sicily & Sardinia   \n",
       "1                            Avidagos      87   15.0              Douro   \n",
       "2                                 NaN      87   14.0             Oregon   \n",
       "3                Reserve Late Harvest      87   13.0           Michigan   \n",
       "4  Vintner's Reserve Wild Child Block      87   65.0             Oregon   \n",
       "\n",
       "              region_1           region_2         taster_name  \\\n",
       "0                 Etna                NaN       Kerin O’Keefe   \n",
       "1                  NaN                NaN          Roger Voss   \n",
       "2    Willamette Valley  Willamette Valley        Paul Gregutt   \n",
       "3  Lake Michigan Shore                NaN  Alexander Peartree   \n",
       "4    Willamette Valley  Willamette Valley        Paul Gregutt   \n",
       "\n",
       "  taster_twitter_handle                                              title  \\\n",
       "0          @kerinokeefe                  Nicosia 2013 Vulkà Bianco  (Etna)   \n",
       "1            @vossroger      Quinta dos Avidagos 2011 Avidagos Red (Douro)   \n",
       "2           @paulgwine       Rainstorm 2013 Pinot Gris (Willamette Valley)   \n",
       "3                   NaN  St. Julian 2013 Reserve Late Harvest Riesling ...   \n",
       "4           @paulgwine   Sweet Cheeks 2012 Vintner's Reserve Wild Child...   \n",
       "\n",
       "          variety               winery  \n",
       "0     White Blend              Nicosia  \n",
       "1  Portuguese Red  Quinta dos Avidagos  \n",
       "2      Pinot Gris            Rainstorm  \n",
       "3        Riesling           St. Julian  \n",
       "4      Pinot Noir         Sweet Cheeks  "
      ]
     },
     "execution_count": 1,
     "metadata": {},
     "output_type": "execute_result"
    }
   ],
   "source": [
    "import pandas as pd\n",
    "pd.set_option(\"display.max_rows\", 5)\n",
    "reviews = pd.read_csv(\"../input/wine-reviews/winemag-data-130k-v2.csv\", index_col=0)\n",
    "\n",
    "from learntools.core import binder; binder.bind(globals())\n",
    "from learntools.pandas.summary_functions_and_maps import *\n",
    "print(\"Setup complete.\")\n",
    "\n",
    "reviews.head()"
   ]
  },
  {
   "cell_type": "markdown",
   "id": "97143334",
   "metadata": {
    "papermill": {
     "duration": 0.005646,
     "end_time": "2023-02-06T01:15:26.933091",
     "exception": false,
     "start_time": "2023-02-06T01:15:26.927445",
     "status": "completed"
    },
    "tags": []
   },
   "source": [
    "# Exercises"
   ]
  },
  {
   "cell_type": "markdown",
   "id": "d300f840",
   "metadata": {
    "papermill": {
     "duration": 0.005441,
     "end_time": "2023-02-06T01:15:26.944271",
     "exception": false,
     "start_time": "2023-02-06T01:15:26.938830",
     "status": "completed"
    },
    "tags": []
   },
   "source": [
    "## 1.\n",
    "\n",
    "What is the median of the `points` column in the `reviews` DataFrame?"
   ]
  },
  {
   "cell_type": "code",
   "execution_count": 2,
   "id": "2d34b57f",
   "metadata": {
    "execution": {
     "iopub.execute_input": "2023-02-06T01:15:26.958353Z",
     "iopub.status.busy": "2023-02-06T01:15:26.957655Z",
     "iopub.status.idle": "2023-02-06T01:15:26.967083Z",
     "shell.execute_reply": "2023-02-06T01:15:26.965858Z"
    },
    "papermill": {
     "duration": 0.019245,
     "end_time": "2023-02-06T01:15:26.969224",
     "exception": false,
     "start_time": "2023-02-06T01:15:26.949979",
     "status": "completed"
    },
    "tags": []
   },
   "outputs": [
    {
     "data": {
      "application/javascript": [
       "parent.postMessage({\"jupyterEvent\": \"custom.exercise_interaction\", \"data\": {\"outcomeType\": 4, \"interactionType\": 1, \"questionType\": 1, \"questionId\": \"1_MedianPoints\", \"learnToolsVersion\": \"0.3.4\", \"valueTowardsCompletion\": 0.0, \"failureMessage\": \"\", \"exceptionClass\": \"\", \"trace\": \"\"}}, \"*\")"
      ],
      "text/plain": [
       "<IPython.core.display.Javascript object>"
      ]
     },
     "metadata": {},
     "output_type": "display_data"
    },
    {
     "data": {
      "text/markdown": [
       "<span style=\"color:#ccaa33\">Check:</span> When you've updated the starter code, `check()` will tell you whether your code is correct. You need to update the code that creates variable `median_points`"
      ],
      "text/plain": [
       "Check: When you've updated the starter code, `check()` will tell you whether your code is correct. You need to update the code that creates variable `median_points`"
      ]
     },
     "metadata": {},
     "output_type": "display_data"
    }
   ],
   "source": [
    "median_points = ____\n",
    "\n",
    "# Check your answer\n",
    "q1.check()"
   ]
  },
  {
   "cell_type": "code",
   "execution_count": 3,
   "id": "10d4208e",
   "metadata": {
    "execution": {
     "iopub.execute_input": "2023-02-06T01:15:26.983940Z",
     "iopub.status.busy": "2023-02-06T01:15:26.983160Z",
     "iopub.status.idle": "2023-02-06T01:15:26.987161Z",
     "shell.execute_reply": "2023-02-06T01:15:26.986190Z"
    },
    "papermill": {
     "duration": 0.013911,
     "end_time": "2023-02-06T01:15:26.989447",
     "exception": false,
     "start_time": "2023-02-06T01:15:26.975536",
     "status": "completed"
    },
    "tags": []
   },
   "outputs": [],
   "source": [
    "#q1.hint()\n",
    "#q1.solution()"
   ]
  },
  {
   "cell_type": "markdown",
   "id": "af6c6942",
   "metadata": {
    "papermill": {
     "duration": 0.005739,
     "end_time": "2023-02-06T01:15:27.001347",
     "exception": false,
     "start_time": "2023-02-06T01:15:26.995608",
     "status": "completed"
    },
    "tags": []
   },
   "source": [
    "## 2. \n",
    "What countries are represented in the dataset? (Your answer should not include any duplicates.)"
   ]
  },
  {
   "cell_type": "code",
   "execution_count": 4,
   "id": "971d5b70",
   "metadata": {
    "execution": {
     "iopub.execute_input": "2023-02-06T01:15:27.015227Z",
     "iopub.status.busy": "2023-02-06T01:15:27.014574Z",
     "iopub.status.idle": "2023-02-06T01:15:27.023706Z",
     "shell.execute_reply": "2023-02-06T01:15:27.022650Z"
    },
    "papermill": {
     "duration": 0.018666,
     "end_time": "2023-02-06T01:15:27.025912",
     "exception": false,
     "start_time": "2023-02-06T01:15:27.007246",
     "status": "completed"
    },
    "tags": []
   },
   "outputs": [
    {
     "data": {
      "application/javascript": [
       "parent.postMessage({\"jupyterEvent\": \"custom.exercise_interaction\", \"data\": {\"outcomeType\": 4, \"interactionType\": 1, \"questionType\": 2, \"questionId\": \"2_UniqueCountries\", \"learnToolsVersion\": \"0.3.4\", \"valueTowardsCompletion\": 0.0, \"failureMessage\": \"\", \"exceptionClass\": \"\", \"trace\": \"\"}}, \"*\")"
      ],
      "text/plain": [
       "<IPython.core.display.Javascript object>"
      ]
     },
     "metadata": {},
     "output_type": "display_data"
    },
    {
     "data": {
      "text/markdown": [
       "<span style=\"color:#ccaa33\">Check:</span> When you've updated the starter code, `check()` will tell you whether your code is correct. You need to update the code that creates variable `countries`"
      ],
      "text/plain": [
       "Check: When you've updated the starter code, `check()` will tell you whether your code is correct. You need to update the code that creates variable `countries`"
      ]
     },
     "metadata": {},
     "output_type": "display_data"
    }
   ],
   "source": [
    "countries = ____\n",
    "\n",
    "# Check your answer\n",
    "q2.check()"
   ]
  },
  {
   "cell_type": "code",
   "execution_count": 5,
   "id": "583f2635",
   "metadata": {
    "execution": {
     "iopub.execute_input": "2023-02-06T01:15:27.040750Z",
     "iopub.status.busy": "2023-02-06T01:15:27.040354Z",
     "iopub.status.idle": "2023-02-06T01:15:27.044643Z",
     "shell.execute_reply": "2023-02-06T01:15:27.043450Z"
    },
    "papermill": {
     "duration": 0.014679,
     "end_time": "2023-02-06T01:15:27.047027",
     "exception": false,
     "start_time": "2023-02-06T01:15:27.032348",
     "status": "completed"
    },
    "tags": []
   },
   "outputs": [],
   "source": [
    "#q2.hint()\n",
    "#q2.solution()"
   ]
  },
  {
   "cell_type": "markdown",
   "id": "a76ac5d2",
   "metadata": {
    "papermill": {
     "duration": 0.006164,
     "end_time": "2023-02-06T01:15:27.059734",
     "exception": false,
     "start_time": "2023-02-06T01:15:27.053570",
     "status": "completed"
    },
    "tags": []
   },
   "source": [
    "## 3.\n",
    "How often does each country appear in the dataset? Create a Series `reviews_per_country` mapping countries to the count of reviews of wines from that country."
   ]
  },
  {
   "cell_type": "code",
   "execution_count": 6,
   "id": "7414a404",
   "metadata": {
    "execution": {
     "iopub.execute_input": "2023-02-06T01:15:27.074652Z",
     "iopub.status.busy": "2023-02-06T01:15:27.074258Z",
     "iopub.status.idle": "2023-02-06T01:15:27.083137Z",
     "shell.execute_reply": "2023-02-06T01:15:27.082032Z"
    },
    "papermill": {
     "duration": 0.019045,
     "end_time": "2023-02-06T01:15:27.085380",
     "exception": false,
     "start_time": "2023-02-06T01:15:27.066335",
     "status": "completed"
    },
    "tags": []
   },
   "outputs": [
    {
     "data": {
      "application/javascript": [
       "parent.postMessage({\"jupyterEvent\": \"custom.exercise_interaction\", \"data\": {\"outcomeType\": 4, \"interactionType\": 1, \"questionType\": 1, \"questionId\": \"3_ReviewsPerCountry\", \"learnToolsVersion\": \"0.3.4\", \"valueTowardsCompletion\": 0.0, \"failureMessage\": \"\", \"exceptionClass\": \"\", \"trace\": \"\"}}, \"*\")"
      ],
      "text/plain": [
       "<IPython.core.display.Javascript object>"
      ]
     },
     "metadata": {},
     "output_type": "display_data"
    },
    {
     "data": {
      "text/markdown": [
       "<span style=\"color:#ccaa33\">Check:</span> When you've updated the starter code, `check()` will tell you whether your code is correct. You need to update the code that creates variable `reviews_per_country`"
      ],
      "text/plain": [
       "Check: When you've updated the starter code, `check()` will tell you whether your code is correct. You need to update the code that creates variable `reviews_per_country`"
      ]
     },
     "metadata": {},
     "output_type": "display_data"
    }
   ],
   "source": [
    "reviews_per_country = ____\n",
    "\n",
    "# Check your answer\n",
    "q3.check()"
   ]
  },
  {
   "cell_type": "code",
   "execution_count": 7,
   "id": "05a78533",
   "metadata": {
    "execution": {
     "iopub.execute_input": "2023-02-06T01:15:27.101992Z",
     "iopub.status.busy": "2023-02-06T01:15:27.101316Z",
     "iopub.status.idle": "2023-02-06T01:15:27.105781Z",
     "shell.execute_reply": "2023-02-06T01:15:27.104940Z"
    },
    "papermill": {
     "duration": 0.015965,
     "end_time": "2023-02-06T01:15:27.108056",
     "exception": false,
     "start_time": "2023-02-06T01:15:27.092091",
     "status": "completed"
    },
    "tags": []
   },
   "outputs": [],
   "source": [
    "#q3.hint()\n",
    "#q3.solution()"
   ]
  },
  {
   "cell_type": "markdown",
   "id": "9de4ef2e",
   "metadata": {
    "papermill": {
     "duration": 0.006466,
     "end_time": "2023-02-06T01:15:27.121288",
     "exception": false,
     "start_time": "2023-02-06T01:15:27.114822",
     "status": "completed"
    },
    "tags": []
   },
   "source": [
    "## 4.\n",
    "Create variable `centered_price` containing a version of the `price` column with the mean price subtracted.\n",
    "\n",
    "(Note: this 'centering' transformation is a common preprocessing step before applying various machine learning algorithms.) "
   ]
  },
  {
   "cell_type": "code",
   "execution_count": 8,
   "id": "f4c36575",
   "metadata": {
    "execution": {
     "iopub.execute_input": "2023-02-06T01:15:27.136990Z",
     "iopub.status.busy": "2023-02-06T01:15:27.136350Z",
     "iopub.status.idle": "2023-02-06T01:15:27.145345Z",
     "shell.execute_reply": "2023-02-06T01:15:27.144268Z"
    },
    "papermill": {
     "duration": 0.019569,
     "end_time": "2023-02-06T01:15:27.147486",
     "exception": false,
     "start_time": "2023-02-06T01:15:27.127917",
     "status": "completed"
    },
    "tags": []
   },
   "outputs": [
    {
     "data": {
      "application/javascript": [
       "parent.postMessage({\"jupyterEvent\": \"custom.exercise_interaction\", \"data\": {\"outcomeType\": 4, \"interactionType\": 1, \"questionType\": 1, \"questionId\": \"4_CenteredPrice\", \"learnToolsVersion\": \"0.3.4\", \"valueTowardsCompletion\": 0.0, \"failureMessage\": \"\", \"exceptionClass\": \"\", \"trace\": \"\"}}, \"*\")"
      ],
      "text/plain": [
       "<IPython.core.display.Javascript object>"
      ]
     },
     "metadata": {},
     "output_type": "display_data"
    },
    {
     "data": {
      "text/markdown": [
       "<span style=\"color:#ccaa33\">Check:</span> When you've updated the starter code, `check()` will tell you whether your code is correct. You need to update the code that creates variable `centered_price`"
      ],
      "text/plain": [
       "Check: When you've updated the starter code, `check()` will tell you whether your code is correct. You need to update the code that creates variable `centered_price`"
      ]
     },
     "metadata": {},
     "output_type": "display_data"
    }
   ],
   "source": [
    "centered_price = ____\n",
    "\n",
    "# Check your answer\n",
    "q4.check()"
   ]
  },
  {
   "cell_type": "code",
   "execution_count": 9,
   "id": "2aa9bdbf",
   "metadata": {
    "execution": {
     "iopub.execute_input": "2023-02-06T01:15:27.165218Z",
     "iopub.status.busy": "2023-02-06T01:15:27.164553Z",
     "iopub.status.idle": "2023-02-06T01:15:27.168905Z",
     "shell.execute_reply": "2023-02-06T01:15:27.168113Z"
    },
    "papermill": {
     "duration": 0.016443,
     "end_time": "2023-02-06T01:15:27.171065",
     "exception": false,
     "start_time": "2023-02-06T01:15:27.154622",
     "status": "completed"
    },
    "tags": []
   },
   "outputs": [],
   "source": [
    "#q4.hint()\n",
    "#q4.solution()"
   ]
  },
  {
   "cell_type": "markdown",
   "id": "c5cbbf1c",
   "metadata": {
    "papermill": {
     "duration": 0.006734,
     "end_time": "2023-02-06T01:15:27.184829",
     "exception": false,
     "start_time": "2023-02-06T01:15:27.178095",
     "status": "completed"
    },
    "tags": []
   },
   "source": [
    "## 5.\n",
    "I'm an economical wine buyer. Which wine is the \"best bargain\"? Create a variable `bargain_wine` with the title of the wine with the highest points-to-price ratio in the dataset."
   ]
  },
  {
   "cell_type": "code",
   "execution_count": 10,
   "id": "3445d2e9",
   "metadata": {
    "execution": {
     "iopub.execute_input": "2023-02-06T01:15:27.201091Z",
     "iopub.status.busy": "2023-02-06T01:15:27.200338Z",
     "iopub.status.idle": "2023-02-06T01:15:27.209460Z",
     "shell.execute_reply": "2023-02-06T01:15:27.208455Z"
    },
    "papermill": {
     "duration": 0.019816,
     "end_time": "2023-02-06T01:15:27.211509",
     "exception": false,
     "start_time": "2023-02-06T01:15:27.191693",
     "status": "completed"
    },
    "tags": []
   },
   "outputs": [
    {
     "data": {
      "application/javascript": [
       "parent.postMessage({\"jupyterEvent\": \"custom.exercise_interaction\", \"data\": {\"outcomeType\": 4, \"interactionType\": 1, \"questionType\": 2, \"questionId\": \"5_BargainWine\", \"learnToolsVersion\": \"0.3.4\", \"valueTowardsCompletion\": 0.0, \"failureMessage\": \"\", \"exceptionClass\": \"\", \"trace\": \"\"}}, \"*\")"
      ],
      "text/plain": [
       "<IPython.core.display.Javascript object>"
      ]
     },
     "metadata": {},
     "output_type": "display_data"
    },
    {
     "data": {
      "text/markdown": [
       "<span style=\"color:#ccaa33\">Check:</span> When you've updated the starter code, `check()` will tell you whether your code is correct. You need to update the code that creates variable `bargain_wine`"
      ],
      "text/plain": [
       "Check: When you've updated the starter code, `check()` will tell you whether your code is correct. You need to update the code that creates variable `bargain_wine`"
      ]
     },
     "metadata": {},
     "output_type": "display_data"
    }
   ],
   "source": [
    "bargain_wine = ____\n",
    "\n",
    "# Check your answer\n",
    "q5.check()"
   ]
  },
  {
   "cell_type": "code",
   "execution_count": 11,
   "id": "0048ba07",
   "metadata": {
    "execution": {
     "iopub.execute_input": "2023-02-06T01:15:27.229521Z",
     "iopub.status.busy": "2023-02-06T01:15:27.228698Z",
     "iopub.status.idle": "2023-02-06T01:15:27.233736Z",
     "shell.execute_reply": "2023-02-06T01:15:27.232539Z"
    },
    "papermill": {
     "duration": 0.016852,
     "end_time": "2023-02-06T01:15:27.236275",
     "exception": false,
     "start_time": "2023-02-06T01:15:27.219423",
     "status": "completed"
    },
    "tags": []
   },
   "outputs": [],
   "source": [
    "#q5.hint()\n",
    "#q5.solution()"
   ]
  },
  {
   "cell_type": "markdown",
   "id": "d87c5ac8",
   "metadata": {
    "papermill": {
     "duration": 0.007065,
     "end_time": "2023-02-06T01:15:27.250738",
     "exception": false,
     "start_time": "2023-02-06T01:15:27.243673",
     "status": "completed"
    },
    "tags": []
   },
   "source": [
    "## 6.\n",
    "There are only so many words you can use when describing a bottle of wine. Is a wine more likely to be \"tropical\" or \"fruity\"? Create a Series `descriptor_counts` counting how many times each of these two words appears in the `description` column in the dataset. (For simplicity, let's ignore the capitalized versions of these words.)"
   ]
  },
  {
   "cell_type": "code",
   "execution_count": 12,
   "id": "ab2cb7b5",
   "metadata": {
    "execution": {
     "iopub.execute_input": "2023-02-06T01:15:27.267263Z",
     "iopub.status.busy": "2023-02-06T01:15:27.266829Z",
     "iopub.status.idle": "2023-02-06T01:15:27.275515Z",
     "shell.execute_reply": "2023-02-06T01:15:27.274404Z"
    },
    "papermill": {
     "duration": 0.019529,
     "end_time": "2023-02-06T01:15:27.277632",
     "exception": false,
     "start_time": "2023-02-06T01:15:27.258103",
     "status": "completed"
    },
    "tags": []
   },
   "outputs": [
    {
     "data": {
      "application/javascript": [
       "parent.postMessage({\"jupyterEvent\": \"custom.exercise_interaction\", \"data\": {\"outcomeType\": 4, \"interactionType\": 1, \"questionType\": 1, \"questionId\": \"6_DescriptorCounts\", \"learnToolsVersion\": \"0.3.4\", \"valueTowardsCompletion\": 0.0, \"failureMessage\": \"\", \"exceptionClass\": \"\", \"trace\": \"\"}}, \"*\")"
      ],
      "text/plain": [
       "<IPython.core.display.Javascript object>"
      ]
     },
     "metadata": {},
     "output_type": "display_data"
    },
    {
     "data": {
      "text/markdown": [
       "<span style=\"color:#ccaa33\">Check:</span> When you've updated the starter code, `check()` will tell you whether your code is correct. You need to update the code that creates variable `descriptor_counts`"
      ],
      "text/plain": [
       "Check: When you've updated the starter code, `check()` will tell you whether your code is correct. You need to update the code that creates variable `descriptor_counts`"
      ]
     },
     "metadata": {},
     "output_type": "display_data"
    }
   ],
   "source": [
    "descriptor_counts = ____\n",
    "\n",
    "# Check your answer\n",
    "q6.check()"
   ]
  },
  {
   "cell_type": "code",
   "execution_count": 13,
   "id": "7b9c0edb",
   "metadata": {
    "execution": {
     "iopub.execute_input": "2023-02-06T01:15:27.294934Z",
     "iopub.status.busy": "2023-02-06T01:15:27.294475Z",
     "iopub.status.idle": "2023-02-06T01:15:27.298756Z",
     "shell.execute_reply": "2023-02-06T01:15:27.297642Z"
    },
    "papermill": {
     "duration": 0.015634,
     "end_time": "2023-02-06T01:15:27.300982",
     "exception": false,
     "start_time": "2023-02-06T01:15:27.285348",
     "status": "completed"
    },
    "tags": []
   },
   "outputs": [],
   "source": [
    "#q6.hint()\n",
    "#q6.solution()"
   ]
  },
  {
   "cell_type": "markdown",
   "id": "c5658f40",
   "metadata": {
    "papermill": {
     "duration": 0.007359,
     "end_time": "2023-02-06T01:15:27.316053",
     "exception": false,
     "start_time": "2023-02-06T01:15:27.308694",
     "status": "completed"
    },
    "tags": []
   },
   "source": [
    "## 7.\n",
    "We'd like to host these wine reviews on our website, but a rating system ranging from 80 to 100 points is too hard to understand - we'd like to translate them into simple star ratings. A score of 95 or higher counts as 3 stars, a score of at least 85 but less than 95 is 2 stars. Any other score is 1 star.\n",
    "\n",
    "Also, the Canadian Vintners Association bought a lot of ads on the site, so any wines from Canada should automatically get 3 stars, regardless of points.\n",
    "\n",
    "Create a series `star_ratings` with the number of stars corresponding to each review in the dataset."
   ]
  },
  {
   "cell_type": "code",
   "execution_count": 14,
   "id": "533cb4e5",
   "metadata": {
    "execution": {
     "iopub.execute_input": "2023-02-06T01:15:27.333560Z",
     "iopub.status.busy": "2023-02-06T01:15:27.332813Z",
     "iopub.status.idle": "2023-02-06T01:15:27.341002Z",
     "shell.execute_reply": "2023-02-06T01:15:27.340184Z"
    },
    "papermill": {
     "duration": 0.019561,
     "end_time": "2023-02-06T01:15:27.343102",
     "exception": false,
     "start_time": "2023-02-06T01:15:27.323541",
     "status": "completed"
    },
    "tags": []
   },
   "outputs": [
    {
     "data": {
      "application/javascript": [
       "parent.postMessage({\"jupyterEvent\": \"custom.exercise_interaction\", \"data\": {\"outcomeType\": 4, \"interactionType\": 1, \"questionType\": 1, \"questionId\": \"7_StarRatings\", \"learnToolsVersion\": \"0.3.4\", \"valueTowardsCompletion\": 0.0, \"failureMessage\": \"\", \"exceptionClass\": \"\", \"trace\": \"\"}}, \"*\")"
      ],
      "text/plain": [
       "<IPython.core.display.Javascript object>"
      ]
     },
     "metadata": {},
     "output_type": "display_data"
    },
    {
     "data": {
      "text/markdown": [
       "<span style=\"color:#ccaa33\">Check:</span> When you've updated the starter code, `check()` will tell you whether your code is correct. You need to update the code that creates variable `star_ratings`"
      ],
      "text/plain": [
       "Check: When you've updated the starter code, `check()` will tell you whether your code is correct. You need to update the code that creates variable `star_ratings`"
      ]
     },
     "metadata": {},
     "output_type": "display_data"
    }
   ],
   "source": [
    "star_ratings = ____\n",
    "\n",
    "# Check your answer\n",
    "q7.check()"
   ]
  },
  {
   "cell_type": "code",
   "execution_count": 15,
   "id": "ed2b6c29",
   "metadata": {
    "execution": {
     "iopub.execute_input": "2023-02-06T01:15:27.361356Z",
     "iopub.status.busy": "2023-02-06T01:15:27.360168Z",
     "iopub.status.idle": "2023-02-06T01:15:27.365494Z",
     "shell.execute_reply": "2023-02-06T01:15:27.364461Z"
    },
    "papermill": {
     "duration": 0.016772,
     "end_time": "2023-02-06T01:15:27.367863",
     "exception": false,
     "start_time": "2023-02-06T01:15:27.351091",
     "status": "completed"
    },
    "tags": []
   },
   "outputs": [],
   "source": [
    "#q7.hint()\n",
    "#q7.solution()"
   ]
  },
  {
   "cell_type": "markdown",
   "id": "1ee8f1bc",
   "metadata": {
    "papermill": {
     "duration": 0.007592,
     "end_time": "2023-02-06T01:15:27.383212",
     "exception": false,
     "start_time": "2023-02-06T01:15:27.375620",
     "status": "completed"
    },
    "tags": []
   },
   "source": [
    "# Keep going\n",
    "Continue to **[grouping and sorting](https://www.kaggle.com/residentmario/grouping-and-sorting)**."
   ]
  },
  {
   "cell_type": "markdown",
   "id": "699bbba7",
   "metadata": {
    "papermill": {
     "duration": 0.007771,
     "end_time": "2023-02-06T01:15:27.398635",
     "exception": false,
     "start_time": "2023-02-06T01:15:27.390864",
     "status": "completed"
    },
    "tags": []
   },
   "source": [
    "---\n",
    "\n",
    "\n",
    "\n",
    "\n",
    "*Have questions or comments? Visit the [course discussion forum](https://www.kaggle.com/learn/pandas/discussion) to chat with other learners.*"
   ]
  }
 ],
 "metadata": {
  "kernelspec": {
   "display_name": "Python 3",
   "language": "python",
   "name": "python3"
  },
  "language_info": {
   "codemirror_mode": {
    "name": "ipython",
    "version": 3
   },
   "file_extension": ".py",
   "mimetype": "text/x-python",
   "name": "python",
   "nbconvert_exporter": "python",
   "pygments_lexer": "ipython3",
   "version": "3.7.12"
  },
  "papermill": {
   "default_parameters": {},
   "duration": 17.273113,
   "end_time": "2023-02-06T01:15:28.328599",
   "environment_variables": {},
   "exception": null,
   "input_path": "__notebook__.ipynb",
   "output_path": "__notebook__.ipynb",
   "parameters": {},
   "start_time": "2023-02-06T01:15:11.055486",
   "version": "2.3.4"
  }
 },
 "nbformat": 4,
 "nbformat_minor": 5
}
